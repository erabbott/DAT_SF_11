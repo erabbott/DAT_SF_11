{
 "metadata": {
  "name": "",
  "signature": "sha256:0b2ab1752f12b319d4de40c69e7dc99575907feed8bf354e699d18bc12804ee0"
 },
 "nbformat": 3,
 "nbformat_minor": 0,
 "worksheets": [
  {
   "cells": [
    {
     "cell_type": "markdown",
     "metadata": {},
     "source": [
      "# Lab 03 - Numpy Intro"
     ]
    },
    {
     "cell_type": "code",
     "collapsed": false,
     "input": [
      "# Standard imports for data analysis packages in Python\n",
      "import pandas as pd\n",
      "import numpy as np\n",
      "import seaborn as sns\n",
      "import matplotlib.pyplot as plt\n",
      "from IPython.display import Image\n",
      "\n",
      "# This enables inline Plots\n",
      "%matplotlib inline\n",
      "\n",
      "# Limit rows displayed in notebook\n",
      "pd.set_option('display.max_rows', 10)\n",
      "pd.set_option('display.precision', 2)"
     ],
     "language": "python",
     "metadata": {},
     "outputs": [],
     "prompt_number": 1
    },
    {
     "cell_type": "code",
     "collapsed": false,
     "input": [
      "print 'Pandas Version: ', pd.__version__\n",
      "print 'Numpy Version: ', np.__version__"
     ],
     "language": "python",
     "metadata": {},
     "outputs": [
      {
       "output_type": "stream",
       "stream": "stdout",
       "text": [
        "Pandas Version:  0.14.1\n",
        "Numpy Version:  1.9.0\n"
       ]
      }
     ],
     "prompt_number": 2
    },
    {
     "cell_type": "markdown",
     "metadata": {},
     "source": [
      "## Numpy\n",
      "\n",
      "* Pandas is built on top of Numpy.  Each Column in a Pandas DataFrame is a Numpy Array\n",
      "* Plotting functions (matplotlib) needs Numpy Arrays as input\n",
      "* Scikit-Learn needs Numpy Array as Input for Features and Lables and building Models\n",
      "\n",
      "Let's do a overview of Numpy Data Structures and Functions.\n",
      "\n",
      "### Data Strcutres\n",
      "\n",
      "* Arrays\n",
      "* Matrices"
     ]
    },
    {
     "cell_type": "markdown",
     "metadata": {},
     "source": [
      "#### Arrays"
     ]
    },
    {
     "cell_type": "code",
     "collapsed": false,
     "input": [
      "# numpy is very similar to matlab - similar ideas\n",
      "# in python a list is a flexible option. in Numpy array, all values need to be of same type\n",
      "# once you establish a numpy array you cannot expand it - reserves bytes in memory and operates on that chunk of memory\n",
      "\n",
      "# One Dimensional Array\n",
      "arr1 = np.array([1, 2, 3, 4, 5, 6]) # type of array is numpy (np)\n",
      "print 'Shape of Array: ', arr1.shape\n",
      "print 'Type of object: ', type(arr1)\n",
      "print 'Type of contents: ', arr1.dtype\n",
      "print 'Size (elements): ', arr1.size\n",
      "print 'ndim (number of dim): ', arr1.ndim\n",
      "print arr1"
     ],
     "language": "python",
     "metadata": {},
     "outputs": [
      {
       "output_type": "stream",
       "stream": "stdout",
       "text": [
        "Shape of Array:  (6,)\n",
        "Type of object:  <type 'numpy.ndarray'>\n",
        "Type of contents:  int64\n",
        "Size (elements):  6\n",
        "ndim (number of dim):  1\n",
        "[1 2 3 4 5 6]\n"
       ]
      }
     ],
     "prompt_number": 3
    },
    {
     "cell_type": "code",
     "collapsed": false,
     "input": [
      "# Selecting elements from array (Slicing)\n",
      "arr1[1]"
     ],
     "language": "python",
     "metadata": {},
     "outputs": [
      {
       "metadata": {},
       "output_type": "pyout",
       "prompt_number": 4,
       "text": [
        "2"
       ]
      }
     ],
     "prompt_number": 4
    },
    {
     "cell_type": "code",
     "collapsed": false,
     "input": [
      "# Selecting a range - notice that it starts at lower limit upto the upper limt (not including).  Same behavior as Python list\n",
      "arr1[1:3]"
     ],
     "language": "python",
     "metadata": {},
     "outputs": [
      {
       "metadata": {},
       "output_type": "pyout",
       "prompt_number": 5,
       "text": [
        "array([2, 3])"
       ]
      }
     ],
     "prompt_number": 5
    },
    {
     "cell_type": "markdown",
     "metadata": {},
     "source": [
      "#### Assigning Values"
     ]
    },
    {
     "cell_type": "code",
     "collapsed": false,
     "input": [
      "# You can assign values individually\n",
      "arr1[0] = 10\n",
      "arr1"
     ],
     "language": "python",
     "metadata": {},
     "outputs": [
      {
       "metadata": {},
       "output_type": "pyout",
       "prompt_number": 6,
       "text": [
        "array([10,  2,  3,  4,  5,  6])"
       ]
      }
     ],
     "prompt_number": 6
    },
    {
     "cell_type": "code",
     "collapsed": false,
     "input": [
      "# Or Assign a indivual value to a range\n",
      "arr1[1:] = 20  # Start at 1st element till END\n",
      "arr1"
     ],
     "language": "python",
     "metadata": {},
     "outputs": [
      {
       "metadata": {},
       "output_type": "pyout",
       "prompt_number": 7,
       "text": [
        "array([10, 20, 20, 20, 20, 20])"
       ]
      }
     ],
     "prompt_number": 7
    },
    {
     "cell_type": "code",
     "collapsed": false,
     "input": [
      "# Two Dimensional Array\n",
      "arr2 = np.array([[1, 2, 3], [4, 5, 6]])\n",
      "print 'Shape of Array: ', arr2.shape\n",
      "print 'Type of object: ', type(arr2)\n",
      "print 'Type of contents: ', arr2.dtype\n",
      "print 'Size (elements): ', arr2.size\n",
      "print 'ndim (number of dim): ', arr2.ndim\n",
      "print arr2"
     ],
     "language": "python",
     "metadata": {},
     "outputs": [
      {
       "output_type": "stream",
       "stream": "stdout",
       "text": [
        "Shape of Array:  (2, 3)\n",
        "Type of object:  <type 'numpy.ndarray'>\n",
        "Type of contents:  int64\n",
        "Size (elements):  6\n",
        "ndim (number of dim):  2\n",
        "[[1 2 3]\n",
        " [4 5 6]]\n"
       ]
      }
     ],
     "prompt_number": 15
    },
    {
     "cell_type": "code",
     "collapsed": false,
     "input": [
      "# Reshape One-D to Two-D Array\n",
      "arr1.reshape(2, 3)"
     ],
     "language": "python",
     "metadata": {},
     "outputs": [
      {
       "metadata": {},
       "output_type": "pyout",
       "prompt_number": 16,
       "text": [
        "array([[10, 20, 20],\n",
        "       [20, 20, 20]])"
       ]
      }
     ],
     "prompt_number": 16
    },
    {
     "cell_type": "code",
     "collapsed": false,
     "input": [
      "arr1.reshape((3, 2)) # has not made a copy of array, just different views"
     ],
     "language": "python",
     "metadata": {},
     "outputs": [
      {
       "metadata": {},
       "output_type": "pyout",
       "prompt_number": 17,
       "text": [
        "array([[10, 20],\n",
        "       [20, 20],\n",
        "       [20, 20]])"
       ]
      }
     ],
     "prompt_number": 17
    },
    {
     "cell_type": "code",
     "collapsed": false,
     "input": [
      "arr1"
     ],
     "language": "python",
     "metadata": {},
     "outputs": [
      {
       "metadata": {},
       "output_type": "pyout",
       "prompt_number": 18,
       "text": [
        "array([10, 20, 20, 20, 20, 20])"
       ]
      }
     ],
     "prompt_number": 18
    },
    {
     "cell_type": "code",
     "collapsed": false,
     "input": [
      "arr1.reshape((:,))"
     ],
     "language": "python",
     "metadata": {},
     "outputs": [
      {
       "ename": "SyntaxError",
       "evalue": "invalid syntax (<ipython-input-19-a3e9de37a843>, line 1)",
       "output_type": "pyerr",
       "traceback": [
        "\u001b[0;36m  File \u001b[0;32m\"<ipython-input-19-a3e9de37a843>\"\u001b[0;36m, line \u001b[0;32m1\u001b[0m\n\u001b[0;31m    arr1.reshape((:,))\u001b[0m\n\u001b[0m                  ^\u001b[0m\n\u001b[0;31mSyntaxError\u001b[0m\u001b[0;31m:\u001b[0m invalid syntax\n"
       ]
      }
     ],
     "prompt_number": 19
    },
    {
     "cell_type": "code",
     "collapsed": false,
     "input": [
      "# When you add a scalar to an array, it adds it to each element in the array.\n",
      "# This is called broadcasting\n",
      "arr1 + 5"
     ],
     "language": "python",
     "metadata": {},
     "outputs": [
      {
       "metadata": {},
       "output_type": "pyout",
       "prompt_number": 20,
       "text": [
        "array([15, 25, 25, 25, 25, 25])"
       ]
      }
     ],
     "prompt_number": 20
    },
    {
     "cell_type": "code",
     "collapsed": false,
     "input": [
      "# Same thing with other operators on Scalar.  All operations broadcast to each element\n",
      "arr1 * 5"
     ],
     "language": "python",
     "metadata": {},
     "outputs": [
      {
       "metadata": {},
       "output_type": "pyout",
       "prompt_number": 21,
       "text": [
        "array([ 50, 100, 100, 100, 100, 100])"
       ]
      }
     ],
     "prompt_number": 21
    },
    {
     "cell_type": "code",
     "collapsed": false,
     "input": [
      "# It works on 2-D Arrays too\n",
      "arr2 * 10"
     ],
     "language": "python",
     "metadata": {},
     "outputs": [
      {
       "metadata": {},
       "output_type": "pyout",
       "prompt_number": 22,
       "text": [
        "array([[10, 20, 30],\n",
        "       [40, 50, 60]])"
       ]
      }
     ],
     "prompt_number": 22
    },
    {
     "cell_type": "code",
     "collapsed": false,
     "input": [
      "# Now, lets add two Numpy Arrays\n",
      "arr1 = np.array([1, 2, 3])\n",
      "arr2 = np.array([4, 5, 6])\n",
      "\n",
      "arr1 + arr2"
     ],
     "language": "python",
     "metadata": {},
     "outputs": [
      {
       "metadata": {},
       "output_type": "pyout",
       "prompt_number": 24,
       "text": [
        "array([5, 7, 9])"
       ]
      }
     ],
     "prompt_number": 24
    },
    {
     "cell_type": "code",
     "collapsed": false,
     "input": [
      "# Multiply Two Numpy Arrays\n",
      "arr1 * arr2"
     ],
     "language": "python",
     "metadata": {},
     "outputs": [
      {
       "metadata": {},
       "output_type": "pyout",
       "prompt_number": 25,
       "text": [
        "array([ 4, 10, 18])"
       ]
      }
     ],
     "prompt_number": 25
    },
    {
     "cell_type": "markdown",
     "metadata": {},
     "source": [
      "Main Idea: ALL Numpy Operations are element-wise operations.\n",
      "\n",
      "* Adding to Numpy Arrays, results in does element-wise addition\n",
      "* Multiplying two Arrays, results in element-wise multiplication"
     ]
    },
    {
     "cell_type": "markdown",
     "metadata": {},
     "source": [
      "#### Exercise 1:  Now do this on Python List.  Do you see any difference\n",
      "\n",
      "* Add two Python lists\n",
      "* Multiple two Python lists\n",
      "* Add a scalar to a Python list\n",
      "* Multiply a Scalar to Python list"
     ]
    },
    {
     "cell_type": "code",
     "collapsed": false,
     "input": [
      "seq1 = [1, 2, 3]\n",
      "seq2 = [4, 5, 6]"
     ],
     "language": "python",
     "metadata": {},
     "outputs": [],
     "prompt_number": 26
    },
    {
     "cell_type": "code",
     "collapsed": false,
     "input": [
      "# Add two Python lists\n",
      "seq1 + seq2 #combines the two lists"
     ],
     "language": "python",
     "metadata": {},
     "outputs": [
      {
       "metadata": {},
       "output_type": "pyout",
       "prompt_number": 27,
       "text": [
        "[1, 2, 3, 4, 5, 6]"
       ]
      }
     ],
     "prompt_number": 27
    },
    {
     "cell_type": "code",
     "collapsed": false,
     "input": [
      "# Multiply two Python lists\n",
      "seq1 * seq2 # doesn't work"
     ],
     "language": "python",
     "metadata": {},
     "outputs": [
      {
       "ename": "TypeError",
       "evalue": "can't multiply sequence by non-int of type 'list'",
       "output_type": "pyerr",
       "traceback": [
        "\u001b[0;31m---------------------------------------------------------------------------\u001b[0m\n\u001b[0;31mTypeError\u001b[0m                                 Traceback (most recent call last)",
        "\u001b[0;32m<ipython-input-29-4b7afa9a2724>\u001b[0m in \u001b[0;36m<module>\u001b[0;34m()\u001b[0m\n\u001b[1;32m      1\u001b[0m \u001b[0;31m# Multiply two Python lists\u001b[0m\u001b[0;34m\u001b[0m\u001b[0;34m\u001b[0m\u001b[0m\n\u001b[0;32m----> 2\u001b[0;31m \u001b[0mseq1\u001b[0m \u001b[0;34m*\u001b[0m \u001b[0mseq2\u001b[0m\u001b[0;34m\u001b[0m\u001b[0m\n\u001b[0m",
        "\u001b[0;31mTypeError\u001b[0m: can't multiply sequence by non-int of type 'list'"
       ]
      }
     ],
     "prompt_number": 29
    },
    {
     "cell_type": "code",
     "collapsed": false,
     "input": [
      "# Add a scalar to a Python list\n",
      "seq1 + 10 # doesn't work"
     ],
     "language": "python",
     "metadata": {},
     "outputs": [
      {
       "ename": "TypeError",
       "evalue": "can only concatenate list (not \"int\") to list",
       "output_type": "pyerr",
       "traceback": [
        "\u001b[0;31m---------------------------------------------------------------------------\u001b[0m\n\u001b[0;31mTypeError\u001b[0m                                 Traceback (most recent call last)",
        "\u001b[0;32m<ipython-input-30-e43f7b5a70dd>\u001b[0m in \u001b[0;36m<module>\u001b[0;34m()\u001b[0m\n\u001b[1;32m      1\u001b[0m \u001b[0;31m# Add a scalar to a Python list\u001b[0m\u001b[0;34m\u001b[0m\u001b[0;34m\u001b[0m\u001b[0m\n\u001b[0;32m----> 2\u001b[0;31m \u001b[0mseq1\u001b[0m \u001b[0;34m+\u001b[0m \u001b[0;36m10\u001b[0m\u001b[0;34m\u001b[0m\u001b[0m\n\u001b[0m",
        "\u001b[0;31mTypeError\u001b[0m: can only concatenate list (not \"int\") to list"
       ]
      }
     ],
     "prompt_number": 30
    },
    {
     "cell_type": "code",
     "collapsed": false,
     "input": [
      "# Multiply a scalar to a Python list\n",
      "seq1 * 2 # reproduces the list X times"
     ],
     "language": "python",
     "metadata": {},
     "outputs": [
      {
       "metadata": {},
       "output_type": "pyout",
       "prompt_number": 32,
       "text": [
        "[1, 2, 3, 1, 2, 3]"
       ]
      }
     ],
     "prompt_number": 32
    },
    {
     "cell_type": "code",
     "collapsed": false,
     "input": [
      "# How about slicing, does Numpy Array work the same as List?"
     ],
     "language": "python",
     "metadata": {},
     "outputs": []
    },
    {
     "cell_type": "markdown",
     "metadata": {},
     "source": [
      "But when you try to add a scalar value to a list, you will get an error\n",
      "\n",
      "Compare Numpy Array to Python List operations.  \n",
      "\n",
      "* Do you see any difference in behavior in Operations\n",
      "* How about slicing\n",
      "\n",
      "You will see that Numpy's broadcasting is what makes everything else possible in data analysis with Python"
     ]
    },
    {
     "cell_type": "markdown",
     "metadata": {},
     "source": [
      "#### Matrices\n",
      "\n",
      "* Matrix is like an Array, except that all operations are Matrix operations"
     ]
    },
    {
     "cell_type": "code",
     "collapsed": false,
     "input": [
      "# All Matrix objects are multi-dimensional.  See the difference between this and 1-D Arrays in the top\n",
      "mat1 = np.matrix([1, 2, 3])\n",
      "print 'Matrix Shape: ', mat1.shape\n",
      "print mat1"
     ],
     "language": "python",
     "metadata": {},
     "outputs": [
      {
       "output_type": "stream",
       "stream": "stdout",
       "text": [
        "Matrix Shape:  (1, 3)\n",
        "[[1 2 3]]\n"
       ]
      }
     ],
     "prompt_number": 36
    },
    {
     "cell_type": "markdown",
     "metadata": {},
     "source": [
      "# 2-D Matrix\n",
      "mat2 = np.matrix([[1, 2, 3], [4, 5, 6], [7, 8, 9]])\n",
      "print 'Matrix Shape: ', mat2.shape\n",
      "print mat2"
     ]
    },
    {
     "cell_type": "markdown",
     "metadata": {},
     "source": [
      "#### Matrices are like Arrays, but you can do Matrix Manipulations"
     ]
    },
    {
     "cell_type": "code",
     "collapsed": false,
     "input": [
      "# Addition is Element wise addition\n",
      "mat1 + mat1"
     ],
     "language": "python",
     "metadata": {},
     "outputs": [
      {
       "metadata": {},
       "output_type": "pyout",
       "prompt_number": 37,
       "text": [
        "matrix([[2, 4, 6]])"
       ]
      }
     ],
     "prompt_number": 37
    },
    {
     "cell_type": "code",
     "collapsed": false,
     "input": [
      "# Matrix Multipliction\n",
      "mat1 * mat2"
     ],
     "language": "python",
     "metadata": {},
     "outputs": [
      {
       "ename": "NameError",
       "evalue": "name 'mat2' is not defined",
       "output_type": "pyerr",
       "traceback": [
        "\u001b[0;31m---------------------------------------------------------------------------\u001b[0m\n\u001b[0;31mNameError\u001b[0m                                 Traceback (most recent call last)",
        "\u001b[0;32m<ipython-input-39-623c7c3d2474>\u001b[0m in \u001b[0;36m<module>\u001b[0;34m()\u001b[0m\n\u001b[1;32m      1\u001b[0m \u001b[0;31m# Matrix Multipliction\u001b[0m\u001b[0;34m\u001b[0m\u001b[0;34m\u001b[0m\u001b[0m\n\u001b[0;32m----> 2\u001b[0;31m \u001b[0mmat1\u001b[0m \u001b[0;34m*\u001b[0m \u001b[0mmat2\u001b[0m\u001b[0;34m\u001b[0m\u001b[0m\n\u001b[0m",
        "\u001b[0;31mNameError\u001b[0m: name 'mat2' is not defined"
       ]
      }
     ],
     "prompt_number": 39
    },
    {
     "cell_type": "markdown",
     "metadata": {},
     "source": [
      "We will mostly be using Numpy Arrays.  Infact you can do matrix operations on Matrices too.  But, just wanted to let you know of the Matrix datatype in Numpy."
     ]
    },
    {
     "cell_type": "markdown",
     "metadata": {},
     "source": [
      "### Numpy Functions"
     ]
    },
    {
     "cell_type": "code",
     "collapsed": false,
     "input": [
      "# Create a Numpy array from 1-100\n",
      "np.arange(1, 101)"
     ],
     "language": "python",
     "metadata": {},
     "outputs": [
      {
       "metadata": {},
       "output_type": "pyout",
       "prompt_number": 40,
       "text": [
        "array([  1,   2,   3,   4,   5,   6,   7,   8,   9,  10,  11,  12,  13,\n",
        "        14,  15,  16,  17,  18,  19,  20,  21,  22,  23,  24,  25,  26,\n",
        "        27,  28,  29,  30,  31,  32,  33,  34,  35,  36,  37,  38,  39,\n",
        "        40,  41,  42,  43,  44,  45,  46,  47,  48,  49,  50,  51,  52,\n",
        "        53,  54,  55,  56,  57,  58,  59,  60,  61,  62,  63,  64,  65,\n",
        "        66,  67,  68,  69,  70,  71,  72,  73,  74,  75,  76,  77,  78,\n",
        "        79,  80,  81,  82,  83,  84,  85,  86,  87,  88,  89,  90,  91,\n",
        "        92,  93,  94,  95,  96,  97,  98,  99, 100])"
       ]
      }
     ],
     "prompt_number": 40
    },
    {
     "cell_type": "code",
     "collapsed": false,
     "input": [
      "# Python list from 1 to 100.  Notice the similarities\n",
      "print range(1, 101)"
     ],
     "language": "python",
     "metadata": {},
     "outputs": [
      {
       "output_type": "stream",
       "stream": "stdout",
       "text": [
        "[1, 2, 3, 4, 5, 6, 7, 8, 9, 10, 11, 12, 13, 14, 15, 16, 17, 18, 19, 20, 21, 22, 23, 24, 25, 26, 27, 28, 29, 30, 31, 32, 33, 34, 35, 36, 37, 38, 39, 40, 41, 42, 43, 44, 45, 46, 47, 48, 49, 50, 51, 52, 53, 54, 55, 56, 57, 58, 59, 60, 61, 62, 63, 64, 65, 66, 67, 68, 69, 70, 71, 72, 73, 74, 75, 76, 77, 78, 79, 80, 81, 82, 83, 84, 85, 86, 87, 88, 89, 90, 91, 92, 93, 94, 95, 96, 97, 98, 99, 100]\n"
       ]
      }
     ],
     "prompt_number": 41
    },
    {
     "cell_type": "code",
     "collapsed": false,
     "input": [
      "# Enough of similarities.  Let's show some awesomeness\n",
      "# Create 10 elements between 0 and 1 - linearly separated\n",
      "np.linspace(0, 1, 10)"
     ],
     "language": "python",
     "metadata": {},
     "outputs": [
      {
       "metadata": {},
       "output_type": "pyout",
       "prompt_number": 42,
       "text": [
        "array([ 0.        ,  0.11111111,  0.22222222,  0.33333333,  0.44444444,\n",
        "        0.55555556,  0.66666667,  0.77777778,  0.88888889,  1.        ])"
       ]
      }
     ],
     "prompt_number": 42
    },
    {
     "cell_type": "code",
     "collapsed": false,
     "input": [
      "# Now, let's look at some distributions"
     ],
     "language": "python",
     "metadata": {},
     "outputs": [],
     "prompt_number": 78
    },
    {
     "cell_type": "code",
     "collapsed": false,
     "input": [
      "# Normal Dist\n",
      "# Mean of 1, std of 0.1, 10 elements\n",
      "np.random.normal(1, 0.1, 10)"
     ],
     "language": "python",
     "metadata": {},
     "outputs": [
      {
       "metadata": {},
       "output_type": "pyout",
       "prompt_number": 43,
       "text": [
        "array([ 0.94292274,  1.005509  ,  0.96945904,  1.06402132,  0.92910231,\n",
        "        0.8904379 ,  1.18284193,  0.91077626,  1.15270468,  0.9875257 ])"
       ]
      }
     ],
     "prompt_number": 43
    },
    {
     "cell_type": "code",
     "collapsed": false,
     "input": [
      "# Standard Normal Dist\n",
      "np.random.randn(1, 10)"
     ],
     "language": "python",
     "metadata": {},
     "outputs": [
      {
       "metadata": {},
       "output_type": "pyout",
       "prompt_number": 44,
       "text": [
        "array([[-0.45675977,  0.78264929, -0.68911893, -0.38541879, -0.32116199,\n",
        "         1.20833463,  0.26641382, -0.6034624 , -0.82651281, -0.16511234]])"
       ]
      }
     ],
     "prompt_number": 44
    },
    {
     "cell_type": "code",
     "collapsed": false,
     "input": [
      "# Look at Other Distribitions - Gamma, binomial etc..\n",
      "# np.random."
     ],
     "language": "python",
     "metadata": {},
     "outputs": [],
     "prompt_number": 81
    },
    {
     "cell_type": "markdown",
     "metadata": {},
     "source": [
      "* Remember the imputation of Age we did for Titanic last week with the Mean Age Value?  Now that you know about Numpy distributions, you can impute the age for missing values with Normal Distribution centered on Mean Age and Std dev of Age.  How cool is that."
     ]
    },
    {
     "cell_type": "markdown",
     "metadata": {},
     "source": [
      "## Matplitlib\n",
      "\n",
      "- [Matplotlib](http://matplotlib.org)\n",
      "- [Matplotlib Gallery](http://matplotlib.org/gallery.html)\n",
      "- [Matplotlib Examples](http://matplotlib.org/examples)"
     ]
    },
    {
     "cell_type": "code",
     "collapsed": false,
     "input": [
      "#everything in matplitlib needs numpy arrays\n",
      "\n",
      "# Let's plot the random Normal Distribution\n",
      "\n",
      "# Create a 100 Element Array with mean 1 and std 0.1\n",
      "arr1 = np.random.normal(1, 0.1, 100)"
     ],
     "language": "python",
     "metadata": {},
     "outputs": [],
     "prompt_number": 45
    },
    {
     "cell_type": "code",
     "collapsed": false,
     "input": [
      "fig, ax = plt.subplots(1, 1)\n",
      "ax.hist(arr1)"
     ],
     "language": "python",
     "metadata": {},
     "outputs": [
      {
       "metadata": {},
       "output_type": "pyout",
       "prompt_number": 46,
       "text": [
        "(array([  6.,   8.,  11.,  17.,  13.,  20.,  10.,   7.,   6.,   2.]),\n",
        " array([ 0.82009696,  0.86252228,  0.9049476 ,  0.94737292,  0.98979824,\n",
        "         1.03222356,  1.07464888,  1.1170742 ,  1.15949953,  1.20192485,\n",
        "         1.24435017]),\n",
        " <a list of 10 Patch objects>)"
       ]
      },
      {
       "metadata": {},
       "output_type": "display_data",
       "png": "[encoded data removed]",
       "text": [
        "<matplotlib.figure.Figure at 0x10b9a0a50>"
       ]
      }
     ],
     "prompt_number": 46
    },
    {
     "cell_type": "code",
     "collapsed": false,
     "input": [
      "# Add a semi-colon if you don't want to see the returned BIN Values in the result\n",
      "fig, ax = plt.subplots(1, 1)\n",
      "ax.hist(arr1, bins=20);"
     ],
     "language": "python",
     "metadata": {},
     "outputs": [
      {
       "metadata": {},
       "output_type": "display_data",
       "png": "[encoded data removed]",
       "text": [
        "<matplotlib.figure.Figure at 0x10b9a0610>"
       ]
      }
     ],
     "prompt_number": 47
    },
    {
     "cell_type": "markdown",
     "metadata": {},
     "source": [
      "#### Exercise: Now, increase the Number of Elements to 10000 and does it change the shape of the distribution?"
     ]
    },
    {
     "cell_type": "code",
     "collapsed": false,
     "input": [
      "# Your Code here to draw a distribution of 10000 element Numpy Array\n",
      "arr2 = np.random.normal(1, 0.1, 10000)\n",
      "fig, ax = plt.subplots(1, 1)\n",
      "ax.hist(arr2);"
     ],
     "language": "python",
     "metadata": {},
     "outputs": [
      {
       "metadata": {},
       "output_type": "display_data",
       "png": "[encoded data removed]",
       "text": [
        "<matplotlib.figure.Figure at 0x10cbf55d0>"
       ]
      }
     ],
     "prompt_number": 51
    },
    {
     "cell_type": "code",
     "collapsed": false,
     "input": [],
     "language": "python",
     "metadata": {},
     "outputs": []
    }
   ],
   "metadata": {}
  }
 ]
}
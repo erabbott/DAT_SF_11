{
 "metadata": {
  "name": "",
  "signature": "sha256:875f04a5ce4b036f68353c77ea6195aaa06c008a56e192ba4d46e7ed03314221"
 },
 "nbformat": 3,
 "nbformat_minor": 0,
 "worksheets": [
  {
   "cells": [
    {
     "cell_type": "markdown",
     "metadata": {},
     "source": [
      "# This notebooks has a number of problems to help you get better at Python"
     ]
    },
    {
     "cell_type": "markdown",
     "metadata": {},
     "source": [
      "### Problem 1: Write a function to convert miles to Kilo Meters\n",
      "\n",
      "Hint: 1 mile = 1.6 km"
     ]
    },
    {
     "cell_type": "code",
     "collapsed": false,
     "input": [
      "# Code the following function\n",
      "def convert_to_km(miles):\n",
      "    #Returns km value for miles.\n",
      "    km = miles*1.6\n",
      "    return km"
     ],
     "language": "python",
     "metadata": {},
     "outputs": []
    },
    {
     "cell_type": "code",
     "collapsed": false,
     "input": [
      "# This is your scratch space to do what you want like test.  \n",
      "# To create more scratch space, just click on Insert -> Cell from the menu\n",
      "if (convert_to_km(2) == 3.2):\n",
      "    print \"hooray\"\n",
      "else: print \"boooo\""
     ],
     "language": "python",
     "metadata": {},
     "outputs": []
    },
    {
     "cell_type": "code",
     "collapsed": false,
     "input": [
      "# If your code is right, the following asserts would succeed, otherwise, you will get a Traceback error\n",
      "# If you get an error, go back to above code and modify and try again.\n",
      "assert(convert_to_km(0) == 0)\n",
      "assert(convert_to_km(1) == 1.6)\n",
      "assert(convert_to_km(2) == 3.2)\n",
      "assert(convert_to_km(1.25) == 2.0)"
     ],
     "language": "python",
     "metadata": {},
     "outputs": []
    },
    {
     "cell_type": "markdown",
     "metadata": {},
     "source": [
      "### Problem 2: Write a function to compute powers of 2\n",
      "\n",
      "Hint: Powers of 2 are 1, 2, 4, 8, 16, 32 and so on for 2 to the power of 0, 1, 2, 3, 4, 5."
     ]
    },
    {
     "cell_type": "code",
     "collapsed": false,
     "input": [
      "# Code the following function\n",
      "def power_of_2(power):\n",
      "    '''Returns 2 to the power value.\n",
      "    '''\n",
      "    if power == 0:\n",
      "        return 1\n",
      "    elif power == 1:\n",
      "        return 2*1\n",
      "    else:\n",
      "        ans = 2\n",
      "        exp=2\n",
      "        while exp <= power:\n",
      "            ans = ans*2\n",
      "            exp += 1\n",
      "    return ans"
     ],
     "language": "python",
     "metadata": {},
     "outputs": []
    },
    {
     "cell_type": "code",
     "collapsed": false,
     "input": [
      "# For example, you can test your code by typing power_of_2(1) and confirming the result.\n"
     ],
     "language": "python",
     "metadata": {},
     "outputs": []
    },
    {
     "cell_type": "code",
     "collapsed": false,
     "input": [
      "# If your code is right, the following asserts would succeed\n",
      "assert(power_of_2(0) == 1)\n",
      "assert(power_of_2(1) == 2)\n",
      "assert(power_of_2(2) == 4)\n",
      "assert(power_of_2(3) == 8)"
     ],
     "language": "python",
     "metadata": {},
     "outputs": []
    },
    {
     "cell_type": "markdown",
     "metadata": {},
     "source": [
      " #### Problem 3: Write a function to check if the number is a power of 2\n",
      " \n",
      " If I pass in a value of 1, 2, 4, 8, 16 ... it should return True.  Otherwise, it should return False."
     ]
    },
    {
     "cell_type": "code",
     "collapsed": false,
     "input": [
      "def check_power_of_2(numb):\n",
      "    '''Returns True if numb is a power of 2, else returns False'''\n",
      "    if numb == 1:\n",
      "        return True\n",
      "    elif numb%2 == 0:\n",
      "        if numb == 2:\n",
      "            return True\n",
      "        else:\n",
      "            div = numb\n",
      "            while div != 1:\n",
      "                div = div/2.\n",
      "                if div < 1:\n",
      "                    return False\n",
      "            return True\n",
      "    else:\n",
      "        return False"
     ],
     "language": "python",
     "metadata": {},
     "outputs": []
    },
    {
     "cell_type": "code",
     "collapsed": false,
     "input": [
      "# If your code is right, the following asserts would succeed.\n",
      "assert(check_power_of_2(2) is True)\n",
      "assert(check_power_of_2(3) is False)\n",
      "assert(check_power_of_2(8) is True)\n",
      "assert(check_power_of_2(12) is False)"
     ],
     "language": "python",
     "metadata": {},
     "outputs": []
    },
    {
     "cell_type": "markdown",
     "metadata": {},
     "source": [
      "### Problem 4: Write a function that returns the nth fibonaci sequence\n",
      "\n",
      "If I call with value of:\n",
      "    * 1, return the first fib sequence of 1\n",
      "    * 2, return 2nd number in fub seq of 1\n",
      "    * 3, return 1 + 1 = 2\n",
      "    * 4, return 1 + 2 = 3\n",
      "    * 5, return 2 + 3 = 5\n",
      "    * 6, return 3 + 5 = 8\n",
      "\n",
      "Ref: http://en.wikipedia.org/wiki/Fibonacci_number"
     ]
    },
    {
     "cell_type": "code",
     "collapsed": false,
     "input": [
      "def fib_value(numb):\n",
      "    '''returns the nth numb in fibonaci sequence'''\n",
      "    if numb == 1 or numb == 2:\n",
      "        return 1\n",
      "    else:\n",
      "        v1= 1\n",
      "        v2= 1\n",
      "        for count in xrange (3,numb+1):\n",
      "            fib = v1 + v2\n",
      "            v1 = v2\n",
      "            v2 = fib\n",
      "            count += 1\n",
      "        return fib"
     ],
     "language": "python",
     "metadata": {},
     "outputs": []
    },
    {
     "cell_type": "code",
     "collapsed": false,
     "input": [
      "# If your code is right, the following asserts would succeed. \n",
      "assert(fib_value(1) == 1)\n",
      "assert(fib_value(5) == 5)\n",
      "assert(fib_value(6) == 8)\n",
      "assert(fib_value(7) == 13)"
     ],
     "language": "python",
     "metadata": {},
     "outputs": []
    },
    {
     "cell_type": "markdown",
     "metadata": {},
     "source": [
      "### Problem 5: Write a function to check if a number is a prime number"
     ]
    },
    {
     "cell_type": "code",
     "collapsed": false,
     "input": [
      "def is_prime(numb):\n",
      "    '''Returns True if the number is a prime number'''\n",
      "    if numb ==2:\n",
      "        return True\n",
      "    for div in xrange(1,numb+1):\n",
      "        if (numb%div == 0) & (div != 1 | div!=numb):\n",
      "            return False\n",
      "        div += 1\n",
      "    return True"
     ],
     "language": "python",
     "metadata": {},
     "outputs": []
    },
    {
     "cell_type": "code",
     "collapsed": false,
     "input": [
      "# If your code is right, the following asserts would succeed. \n",
      "assert(is_prime(2) is True)\n",
      "assert(is_prime(11) is True)\n",
      "assert(is_prime(12) is False)\n",
      "assert(is_prime(13) is True)"
     ],
     "language": "python",
     "metadata": {},
     "outputs": []
    },
    {
     "cell_type": "markdown",
     "metadata": {},
     "source": [
      "### Problem 6: Write a function that returns the max number in a given sequence (list)\n",
      "\n",
      "Don't use the max function\n",
      "\n",
      "* For [1, 3, 2], return 3\n",
      "* For [3, 3, 4, 5, 1], return 5\n",
      "* For [], return None"
     ]
    },
    {
     "cell_type": "code",
     "collapsed": false,
     "input": [
      "def find_max(seq):\n",
      "    '''Returns max value in the seq (list).  If the seq is empty, return None'''\n",
      "    leng = len(seq)\n",
      "    if leng == 0:\n",
      "        return \"None\"\n",
      "    else:\n",
      "        max = 0\n",
      "        for x in xrange(0,leng):\n",
      "            if (x > max):\n",
      "                max = x\n",
      "    return max\n",
      "        \n"
     ],
     "language": "python",
     "metadata": {},
     "outputs": [],
     "prompt_number": 157
    },
    {
     "cell_type": "code",
     "collapsed": false,
     "input": [
      "# If your code is right, the following asserts would succeed.\n",
      "assert(find_max([1, 3, 2]) == 3)\n",
      "assert(find_max([3, 3, 4, 5, 1]) == 5)\n",
      "assert(find_max([]) is None)"
     ],
     "language": "python",
     "metadata": {},
     "outputs": [
      {
       "ename": "AssertionError",
       "evalue": "",
       "output_type": "pyerr",
       "traceback": [
        "\u001b[0;31m---------------------------------------------------------------------------\u001b[0m\n\u001b[0;31mAssertionError\u001b[0m                            Traceback (most recent call last)",
        "\u001b[0;32m<ipython-input-158-e011f9c03ff2>\u001b[0m in \u001b[0;36m<module>\u001b[0;34m()\u001b[0m\n\u001b[1;32m      1\u001b[0m \u001b[0;31m# If your code is right, the following asserts would succeed.\u001b[0m\u001b[0;34m\u001b[0m\u001b[0;34m\u001b[0m\u001b[0m\n\u001b[0;32m----> 2\u001b[0;31m \u001b[0;32massert\u001b[0m\u001b[0;34m(\u001b[0m\u001b[0mfind_max\u001b[0m\u001b[0;34m(\u001b[0m\u001b[0;34m[\u001b[0m\u001b[0;36m1\u001b[0m\u001b[0;34m,\u001b[0m \u001b[0;36m3\u001b[0m\u001b[0;34m,\u001b[0m \u001b[0;36m2\u001b[0m\u001b[0;34m]\u001b[0m\u001b[0;34m)\u001b[0m \u001b[0;34m==\u001b[0m \u001b[0;36m3\u001b[0m\u001b[0;34m)\u001b[0m\u001b[0;34m\u001b[0m\u001b[0m\n\u001b[0m\u001b[1;32m      3\u001b[0m \u001b[0;32massert\u001b[0m\u001b[0;34m(\u001b[0m\u001b[0mfind_max\u001b[0m\u001b[0;34m(\u001b[0m\u001b[0;34m[\u001b[0m\u001b[0;36m3\u001b[0m\u001b[0;34m,\u001b[0m \u001b[0;36m3\u001b[0m\u001b[0;34m,\u001b[0m \u001b[0;36m4\u001b[0m\u001b[0;34m,\u001b[0m \u001b[0;36m5\u001b[0m\u001b[0;34m,\u001b[0m \u001b[0;36m1\u001b[0m\u001b[0;34m]\u001b[0m\u001b[0;34m)\u001b[0m \u001b[0;34m==\u001b[0m \u001b[0;36m5\u001b[0m\u001b[0;34m)\u001b[0m\u001b[0;34m\u001b[0m\u001b[0m\n\u001b[1;32m      4\u001b[0m \u001b[0;32massert\u001b[0m\u001b[0;34m(\u001b[0m\u001b[0mfind_max\u001b[0m\u001b[0;34m(\u001b[0m\u001b[0;34m[\u001b[0m\u001b[0;34m]\u001b[0m\u001b[0;34m)\u001b[0m \u001b[0;32mis\u001b[0m \u001b[0mNone\u001b[0m\u001b[0;34m)\u001b[0m\u001b[0;34m\u001b[0m\u001b[0m\n",
        "\u001b[0;31mAssertionError\u001b[0m: "
       ]
      }
     ],
     "prompt_number": 158
    },
    {
     "cell_type": "markdown",
     "metadata": {},
     "source": [
      "### Problem 7: Find the most common (repeated) number in a sequence\n",
      "\n",
      "* For [1, 1, 3, 2], return 1 (most common or repeated value)\n",
      "* For [1, 2, 2, 2, 3], return 2\n",
      "* For empty list [], return None\n",
      "\n",
      "Hint: Creating a Dictionary of numbers with their counts might be useful"
     ]
    },
    {
     "cell_type": "code",
     "collapsed": false,
     "input": [
      "def most_common(seq):\n",
      "    '''Returns the most common number in the sequence, return None if seq is empty'''\n",
      "    pass"
     ],
     "language": "python",
     "metadata": {},
     "outputs": []
    },
    {
     "cell_type": "code",
     "collapsed": false,
     "input": [
      "# If your code is right, the following asserts would succeed.\n",
      "assert(most_common([1, 1, 3, 2]) == 1)\n",
      "assert(most_common([1, 2, 2, 2, 5]) == 2)\n",
      "assert(most_common([]) is None)"
     ],
     "language": "python",
     "metadata": {},
     "outputs": []
    },
    {
     "cell_type": "markdown",
     "metadata": {},
     "source": [
      "### Problem 8: Check if a string is a palindrome.\n",
      "\n",
      "Palindrome read the same backwards and forwards.\n",
      "\n",
      "Ref: http://en.wikipedia.org/wiki/Palindrome"
     ]
    },
    {
     "cell_type": "code",
     "collapsed": false,
     "input": [
      "def is_palindrome(seq):\n",
      "    '''Returns True if seq is a palindrome else return False'''\n",
      "    pass"
     ],
     "language": "python",
     "metadata": {},
     "outputs": []
    },
    {
     "cell_type": "code",
     "collapsed": false,
     "input": [
      "# If your code is right, the following asserts would succeed.\n",
      "assert(is_palindrome('radar') is True)\n",
      "assert(is_palindrome('civic') is True)\n",
      "assert(is_palindrome('honda') is False)"
     ],
     "language": "python",
     "metadata": {},
     "outputs": []
    },
    {
     "cell_type": "markdown",
     "metadata": {},
     "source": [
      "### Problem 9: Find the five most commonly used words in Gettysburg Address\n",
      "\n",
      "Hint: http://www.d.umn.edu/~rmaclin/gettysburg-address.html"
     ]
    },
    {
     "cell_type": "code",
     "collapsed": false,
     "input": [
      "# If the following import gives error, go to command prompt and run \"conda install requests\"\n",
      "import requests\n",
      "\n",
      "url = 'http://www.d.umn.edu/~rmaclin/gettysburg-address.html'\n",
      "gettsburg = requests.get(url).text"
     ],
     "language": "python",
     "metadata": {},
     "outputs": []
    },
    {
     "cell_type": "code",
     "collapsed": false,
     "input": [
      "# Now gettsburg has the text of Lincon's address.  Can you find the most commonly used words?"
     ],
     "language": "python",
     "metadata": {},
     "outputs": []
    },
    {
     "cell_type": "markdown",
     "metadata": {},
     "source": [
      "# Problem 10: Do problem 9 excluding stop words like \"a, the, and etc.\""
     ]
    },
    {
     "cell_type": "code",
     "collapsed": false,
     "input": [],
     "language": "python",
     "metadata": {},
     "outputs": []
    }
   ],
   "metadata": {}
  }
 ]
}
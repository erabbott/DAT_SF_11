{
 "metadata": {
  "name": "",
  "signature": "sha256:ff77a9805e1c346e755829e1767f9e45a277dc39e74f37ef4148a0de8957a615"
 },
 "nbformat": 3,
 "nbformat_minor": 0,
 "worksheets": [
  {
   "cells": [
    {
     "cell_type": "code",
     "collapsed": false,
     "input": [
      "# Standard imports for data analysis packages in Python\n",
      "import pandas as pd\n",
      "import numpy as np \n",
      "import seaborn as sns\n",
      "import matplotlib.pyplot as plt\n",
      "from sklearn.cross_validation import train_test_split\n",
      "from sklearn.svm import LinearSVC\n",
      "from sklearn.grid_search import GridSearchCV\n",
      "from sklearn.svm import SVC\n",
      "from sklearn.linear_model import LogisticRegression\n",
      "from sklearn.metrics import confusion_matrix, classification_report\n",
      "\n",
      "# Enable inline Plots\n",
      "%matplotlib inline\n",
      "\n",
      "# Limit rows displayed in notebook\n",
      "#pd.set_option('display.max_rows', 10)\n",
      "#pd.set_option('display.precision', 2)"
     ],
     "language": "python",
     "metadata": {},
     "outputs": [],
     "prompt_number": 347
    },
    {
     "cell_type": "code",
     "collapsed": false,
     "input": [
      "columns = ['A1', 'A2', 'A3', 'A4', 'A5', 'A6', 'A7', 'A8', 'A9', 'A10', 'A11', 'A12', 'A13', 'A14', 'A15', 'A16']\n",
      "data = pd.read_csv('../hw2/crx.data', names = columns)"
     ],
     "language": "python",
     "metadata": {},
     "outputs": [],
     "prompt_number": 262
    },
    {
     "cell_type": "code",
     "collapsed": false,
     "input": [
      "data.info()"
     ],
     "language": "python",
     "metadata": {},
     "outputs": [
      {
       "output_type": "stream",
       "stream": "stdout",
       "text": [
        "<class 'pandas.core.frame.DataFrame'>\n",
        "Int64Index: 690 entries, 0 to 689\n",
        "Data columns (total 16 columns):\n",
        "A1     690 non-null object\n",
        "A2     690 non-null object\n",
        "A3     690 non-null float64\n",
        "A4     690 non-null object\n",
        "A5     690 non-null object\n",
        "A6     690 non-null object\n",
        "A7     690 non-null object\n",
        "A8     690 non-null float64\n",
        "A9     690 non-null object\n",
        "A10    690 non-null object\n",
        "A11    690 non-null int64\n",
        "A12    690 non-null object\n",
        "A13    690 non-null object\n",
        "A14    690 non-null object\n",
        "A15    690 non-null int64\n",
        "A16    690 non-null object\n",
        "dtypes: float64(2), int64(2), object(12)\n",
        "memory usage: 91.6+ KB\n"
       ]
      }
     ],
     "prompt_number": 263
    },
    {
     "cell_type": "code",
     "collapsed": false,
     "input": [
      "data.describe()"
     ],
     "language": "python",
     "metadata": {},
     "outputs": [
      {
       "html": [
        "<div style=\"max-height:1000px;max-width:1500px;overflow:auto;\">\n",
        "<table border=\"1\" class=\"dataframe\">\n",
        "  <thead>\n",
        "    <tr style=\"text-align: right;\">\n",
        "      <th></th>\n",
        "      <th>A3</th>\n",
        "      <th>A8</th>\n",
        "      <th>A11</th>\n",
        "      <th>A15</th>\n",
        "    </tr>\n",
        "  </thead>\n",
        "  <tbody>\n",
        "    <tr>\n",
        "      <th>count</th>\n",
        "      <td> 690.000000</td>\n",
        "      <td> 690.000000</td>\n",
        "      <td> 690.00000</td>\n",
        "      <td>    690.000000</td>\n",
        "    </tr>\n",
        "    <tr>\n",
        "      <th>mean</th>\n",
        "      <td>   4.758725</td>\n",
        "      <td>   2.223406</td>\n",
        "      <td>   2.40000</td>\n",
        "      <td>   1017.385507</td>\n",
        "    </tr>\n",
        "    <tr>\n",
        "      <th>std</th>\n",
        "      <td>   4.978163</td>\n",
        "      <td>   3.346513</td>\n",
        "      <td>   4.86294</td>\n",
        "      <td>   5210.102598</td>\n",
        "    </tr>\n",
        "    <tr>\n",
        "      <th>min</th>\n",
        "      <td>   0.000000</td>\n",
        "      <td>   0.000000</td>\n",
        "      <td>   0.00000</td>\n",
        "      <td>      0.000000</td>\n",
        "    </tr>\n",
        "    <tr>\n",
        "      <th>25%</th>\n",
        "      <td>   1.000000</td>\n",
        "      <td>   0.165000</td>\n",
        "      <td>   0.00000</td>\n",
        "      <td>      0.000000</td>\n",
        "    </tr>\n",
        "    <tr>\n",
        "      <th>50%</th>\n",
        "      <td>   2.750000</td>\n",
        "      <td>   1.000000</td>\n",
        "      <td>   0.00000</td>\n",
        "      <td>      5.000000</td>\n",
        "    </tr>\n",
        "    <tr>\n",
        "      <th>75%</th>\n",
        "      <td>   7.207500</td>\n",
        "      <td>   2.625000</td>\n",
        "      <td>   3.00000</td>\n",
        "      <td>    395.500000</td>\n",
        "    </tr>\n",
        "    <tr>\n",
        "      <th>max</th>\n",
        "      <td>  28.000000</td>\n",
        "      <td>  28.500000</td>\n",
        "      <td>  67.00000</td>\n",
        "      <td> 100000.000000</td>\n",
        "    </tr>\n",
        "  </tbody>\n",
        "</table>\n",
        "</div>"
       ],
       "metadata": {},
       "output_type": "pyout",
       "prompt_number": 264,
       "text": [
        "               A3          A8        A11            A15\n",
        "count  690.000000  690.000000  690.00000     690.000000\n",
        "mean     4.758725    2.223406    2.40000    1017.385507\n",
        "std      4.978163    3.346513    4.86294    5210.102598\n",
        "min      0.000000    0.000000    0.00000       0.000000\n",
        "25%      1.000000    0.165000    0.00000       0.000000\n",
        "50%      2.750000    1.000000    0.00000       5.000000\n",
        "75%      7.207500    2.625000    3.00000     395.500000\n",
        "max     28.000000   28.500000   67.00000  100000.000000"
       ]
      }
     ],
     "prompt_number": 264
    },
    {
     "cell_type": "code",
     "collapsed": false,
     "input": [
      "data.replace('?', np.nan, inplace = True)"
     ],
     "language": "python",
     "metadata": {},
     "outputs": [],
     "prompt_number": 265
    },
    {
     "cell_type": "code",
     "collapsed": false,
     "input": [
      "data.A16.replace({'+':1, '-':0}, inplace = True)"
     ],
     "language": "python",
     "metadata": {},
     "outputs": [],
     "prompt_number": 266
    },
    {
     "cell_type": "code",
     "collapsed": false,
     "input": [
      "data.head()"
     ],
     "language": "python",
     "metadata": {},
     "outputs": [
      {
       "html": [
        "<div style=\"max-height:1000px;max-width:1500px;overflow:auto;\">\n",
        "<table border=\"1\" class=\"dataframe\">\n",
        "  <thead>\n",
        "    <tr style=\"text-align: right;\">\n",
        "      <th></th>\n",
        "      <th>A1</th>\n",
        "      <th>A2</th>\n",
        "      <th>A3</th>\n",
        "      <th>A4</th>\n",
        "      <th>A5</th>\n",
        "      <th>A6</th>\n",
        "      <th>A7</th>\n",
        "      <th>A8</th>\n",
        "      <th>A9</th>\n",
        "      <th>A10</th>\n",
        "      <th>A11</th>\n",
        "      <th>A12</th>\n",
        "      <th>A13</th>\n",
        "      <th>A14</th>\n",
        "      <th>A15</th>\n",
        "      <th>A16</th>\n",
        "    </tr>\n",
        "  </thead>\n",
        "  <tbody>\n",
        "    <tr>\n",
        "      <th>0</th>\n",
        "      <td> b</td>\n",
        "      <td> 30.83</td>\n",
        "      <td> 0.000</td>\n",
        "      <td> u</td>\n",
        "      <td> g</td>\n",
        "      <td> w</td>\n",
        "      <td> v</td>\n",
        "      <td> 1.25</td>\n",
        "      <td> t</td>\n",
        "      <td> t</td>\n",
        "      <td> 1</td>\n",
        "      <td> f</td>\n",
        "      <td> g</td>\n",
        "      <td> 00202</td>\n",
        "      <td>   0</td>\n",
        "      <td> 1</td>\n",
        "    </tr>\n",
        "    <tr>\n",
        "      <th>1</th>\n",
        "      <td> a</td>\n",
        "      <td> 58.67</td>\n",
        "      <td> 4.460</td>\n",
        "      <td> u</td>\n",
        "      <td> g</td>\n",
        "      <td> q</td>\n",
        "      <td> h</td>\n",
        "      <td> 3.04</td>\n",
        "      <td> t</td>\n",
        "      <td> t</td>\n",
        "      <td> 6</td>\n",
        "      <td> f</td>\n",
        "      <td> g</td>\n",
        "      <td> 00043</td>\n",
        "      <td> 560</td>\n",
        "      <td> 1</td>\n",
        "    </tr>\n",
        "    <tr>\n",
        "      <th>2</th>\n",
        "      <td> a</td>\n",
        "      <td> 24.50</td>\n",
        "      <td> 0.500</td>\n",
        "      <td> u</td>\n",
        "      <td> g</td>\n",
        "      <td> q</td>\n",
        "      <td> h</td>\n",
        "      <td> 1.50</td>\n",
        "      <td> t</td>\n",
        "      <td> f</td>\n",
        "      <td> 0</td>\n",
        "      <td> f</td>\n",
        "      <td> g</td>\n",
        "      <td> 00280</td>\n",
        "      <td> 824</td>\n",
        "      <td> 1</td>\n",
        "    </tr>\n",
        "    <tr>\n",
        "      <th>3</th>\n",
        "      <td> b</td>\n",
        "      <td> 27.83</td>\n",
        "      <td> 1.540</td>\n",
        "      <td> u</td>\n",
        "      <td> g</td>\n",
        "      <td> w</td>\n",
        "      <td> v</td>\n",
        "      <td> 3.75</td>\n",
        "      <td> t</td>\n",
        "      <td> t</td>\n",
        "      <td> 5</td>\n",
        "      <td> t</td>\n",
        "      <td> g</td>\n",
        "      <td> 00100</td>\n",
        "      <td>   3</td>\n",
        "      <td> 1</td>\n",
        "    </tr>\n",
        "    <tr>\n",
        "      <th>4</th>\n",
        "      <td> b</td>\n",
        "      <td> 20.17</td>\n",
        "      <td> 5.625</td>\n",
        "      <td> u</td>\n",
        "      <td> g</td>\n",
        "      <td> w</td>\n",
        "      <td> v</td>\n",
        "      <td> 1.71</td>\n",
        "      <td> t</td>\n",
        "      <td> f</td>\n",
        "      <td> 0</td>\n",
        "      <td> f</td>\n",
        "      <td> s</td>\n",
        "      <td> 00120</td>\n",
        "      <td>   0</td>\n",
        "      <td> 1</td>\n",
        "    </tr>\n",
        "  </tbody>\n",
        "</table>\n",
        "</div>"
       ],
       "metadata": {},
       "output_type": "pyout",
       "prompt_number": 267,
       "text": [
        "  A1     A2     A3 A4 A5 A6 A7    A8 A9 A10  A11 A12 A13    A14  A15  A16\n",
        "0  b  30.83  0.000  u  g  w  v  1.25  t   t    1   f   g  00202    0    1\n",
        "1  a  58.67  4.460  u  g  q  h  3.04  t   t    6   f   g  00043  560    1\n",
        "2  a  24.50  0.500  u  g  q  h  1.50  t   f    0   f   g  00280  824    1\n",
        "3  b  27.83  1.540  u  g  w  v  3.75  t   t    5   t   g  00100    3    1\n",
        "4  b  20.17  5.625  u  g  w  v  1.71  t   f    0   f   s  00120    0    1"
       ]
      }
     ],
     "prompt_number": 267
    },
    {
     "cell_type": "code",
     "collapsed": false,
     "input": [
      "## fill A1\n",
      "a_count = data.A1[data.A1 == 'a'].count()\n",
      "b_count = data.A1[data.A1 == 'b'].count()\n",
      "# %b\n",
      "float(b_count)/(a_count + b_count)"
     ],
     "language": "python",
     "metadata": {},
     "outputs": [
      {
       "metadata": {},
       "output_type": "pyout",
       "prompt_number": 268,
       "text": [
        "0.6902654867256637"
       ]
      }
     ],
     "prompt_number": 268
    },
    {
     "cell_type": "code",
     "collapsed": false,
     "input": [
      "# figure out how many null values are in A1\n",
      "data[data.A1.isnull()]\n",
      "#data[data.A1.isnull()].count()\n",
      "# ex. for column A2, there are 12 results in A1 that are null"
     ],
     "language": "python",
     "metadata": {},
     "outputs": [
      {
       "html": [
        "<div style=\"max-height:1000px;max-width:1500px;overflow:auto;\">\n",
        "<table border=\"1\" class=\"dataframe\">\n",
        "  <thead>\n",
        "    <tr style=\"text-align: right;\">\n",
        "      <th></th>\n",
        "      <th>A1</th>\n",
        "      <th>A2</th>\n",
        "      <th>A3</th>\n",
        "      <th>A4</th>\n",
        "      <th>A5</th>\n",
        "      <th>A6</th>\n",
        "      <th>A7</th>\n",
        "      <th>A8</th>\n",
        "      <th>A9</th>\n",
        "      <th>A10</th>\n",
        "      <th>A11</th>\n",
        "      <th>A12</th>\n",
        "      <th>A13</th>\n",
        "      <th>A14</th>\n",
        "      <th>A15</th>\n",
        "      <th>A16</th>\n",
        "    </tr>\n",
        "  </thead>\n",
        "  <tbody>\n",
        "    <tr>\n",
        "      <th>248</th>\n",
        "      <td> NaN</td>\n",
        "      <td> 24.50</td>\n",
        "      <td> 12.750</td>\n",
        "      <td> u</td>\n",
        "      <td> g</td>\n",
        "      <td>   c</td>\n",
        "      <td>  bb</td>\n",
        "      <td> 4.750</td>\n",
        "      <td> t</td>\n",
        "      <td> t</td>\n",
        "      <td> 2</td>\n",
        "      <td> f</td>\n",
        "      <td> g</td>\n",
        "      <td> 00073</td>\n",
        "      <td>  444</td>\n",
        "      <td> 1</td>\n",
        "    </tr>\n",
        "    <tr>\n",
        "      <th>327</th>\n",
        "      <td> NaN</td>\n",
        "      <td> 40.83</td>\n",
        "      <td>  3.500</td>\n",
        "      <td> u</td>\n",
        "      <td> g</td>\n",
        "      <td>   i</td>\n",
        "      <td>  bb</td>\n",
        "      <td> 0.500</td>\n",
        "      <td> f</td>\n",
        "      <td> f</td>\n",
        "      <td> 0</td>\n",
        "      <td> f</td>\n",
        "      <td> s</td>\n",
        "      <td> 01160</td>\n",
        "      <td>    0</td>\n",
        "      <td> 0</td>\n",
        "    </tr>\n",
        "    <tr>\n",
        "      <th>346</th>\n",
        "      <td> NaN</td>\n",
        "      <td> 32.25</td>\n",
        "      <td>  1.500</td>\n",
        "      <td> u</td>\n",
        "      <td> g</td>\n",
        "      <td>   c</td>\n",
        "      <td>   v</td>\n",
        "      <td> 0.250</td>\n",
        "      <td> f</td>\n",
        "      <td> f</td>\n",
        "      <td> 0</td>\n",
        "      <td> t</td>\n",
        "      <td> g</td>\n",
        "      <td> 00372</td>\n",
        "      <td>  122</td>\n",
        "      <td> 0</td>\n",
        "    </tr>\n",
        "    <tr>\n",
        "      <th>374</th>\n",
        "      <td> NaN</td>\n",
        "      <td> 28.17</td>\n",
        "      <td>  0.585</td>\n",
        "      <td> u</td>\n",
        "      <td> g</td>\n",
        "      <td>  aa</td>\n",
        "      <td>   v</td>\n",
        "      <td> 0.040</td>\n",
        "      <td> f</td>\n",
        "      <td> f</td>\n",
        "      <td> 0</td>\n",
        "      <td> f</td>\n",
        "      <td> g</td>\n",
        "      <td> 00260</td>\n",
        "      <td> 1004</td>\n",
        "      <td> 0</td>\n",
        "    </tr>\n",
        "    <tr>\n",
        "      <th>453</th>\n",
        "      <td> NaN</td>\n",
        "      <td> 29.75</td>\n",
        "      <td>  0.665</td>\n",
        "      <td> u</td>\n",
        "      <td> g</td>\n",
        "      <td>   w</td>\n",
        "      <td>   v</td>\n",
        "      <td> 0.250</td>\n",
        "      <td> f</td>\n",
        "      <td> f</td>\n",
        "      <td> 0</td>\n",
        "      <td> t</td>\n",
        "      <td> g</td>\n",
        "      <td> 00300</td>\n",
        "      <td>    0</td>\n",
        "      <td> 0</td>\n",
        "    </tr>\n",
        "    <tr>\n",
        "      <th>479</th>\n",
        "      <td> NaN</td>\n",
        "      <td> 26.50</td>\n",
        "      <td>  2.710</td>\n",
        "      <td> y</td>\n",
        "      <td> p</td>\n",
        "      <td> NaN</td>\n",
        "      <td> NaN</td>\n",
        "      <td> 0.085</td>\n",
        "      <td> f</td>\n",
        "      <td> f</td>\n",
        "      <td> 0</td>\n",
        "      <td> f</td>\n",
        "      <td> s</td>\n",
        "      <td> 00080</td>\n",
        "      <td>    0</td>\n",
        "      <td> 0</td>\n",
        "    </tr>\n",
        "    <tr>\n",
        "      <th>489</th>\n",
        "      <td> NaN</td>\n",
        "      <td> 45.33</td>\n",
        "      <td>  1.000</td>\n",
        "      <td> u</td>\n",
        "      <td> g</td>\n",
        "      <td>   q</td>\n",
        "      <td>   v</td>\n",
        "      <td> 0.125</td>\n",
        "      <td> f</td>\n",
        "      <td> f</td>\n",
        "      <td> 0</td>\n",
        "      <td> t</td>\n",
        "      <td> g</td>\n",
        "      <td> 00263</td>\n",
        "      <td>    0</td>\n",
        "      <td> 0</td>\n",
        "    </tr>\n",
        "    <tr>\n",
        "      <th>520</th>\n",
        "      <td> NaN</td>\n",
        "      <td> 20.42</td>\n",
        "      <td>  7.500</td>\n",
        "      <td> u</td>\n",
        "      <td> g</td>\n",
        "      <td>   k</td>\n",
        "      <td>   v</td>\n",
        "      <td> 1.500</td>\n",
        "      <td> t</td>\n",
        "      <td> t</td>\n",
        "      <td> 1</td>\n",
        "      <td> f</td>\n",
        "      <td> g</td>\n",
        "      <td> 00160</td>\n",
        "      <td>  234</td>\n",
        "      <td> 1</td>\n",
        "    </tr>\n",
        "    <tr>\n",
        "      <th>598</th>\n",
        "      <td> NaN</td>\n",
        "      <td> 20.08</td>\n",
        "      <td>  0.125</td>\n",
        "      <td> u</td>\n",
        "      <td> g</td>\n",
        "      <td>   q</td>\n",
        "      <td>   v</td>\n",
        "      <td> 1.000</td>\n",
        "      <td> f</td>\n",
        "      <td> t</td>\n",
        "      <td> 1</td>\n",
        "      <td> f</td>\n",
        "      <td> g</td>\n",
        "      <td> 00240</td>\n",
        "      <td>  768</td>\n",
        "      <td> 1</td>\n",
        "    </tr>\n",
        "    <tr>\n",
        "      <th>601</th>\n",
        "      <td> NaN</td>\n",
        "      <td> 42.25</td>\n",
        "      <td>  1.750</td>\n",
        "      <td> y</td>\n",
        "      <td> p</td>\n",
        "      <td> NaN</td>\n",
        "      <td> NaN</td>\n",
        "      <td> 0.000</td>\n",
        "      <td> f</td>\n",
        "      <td> f</td>\n",
        "      <td> 0</td>\n",
        "      <td> t</td>\n",
        "      <td> g</td>\n",
        "      <td> 00150</td>\n",
        "      <td>    1</td>\n",
        "      <td> 0</td>\n",
        "    </tr>\n",
        "    <tr>\n",
        "      <th>641</th>\n",
        "      <td> NaN</td>\n",
        "      <td> 33.17</td>\n",
        "      <td>  2.250</td>\n",
        "      <td> y</td>\n",
        "      <td> p</td>\n",
        "      <td>  cc</td>\n",
        "      <td>   v</td>\n",
        "      <td> 3.500</td>\n",
        "      <td> f</td>\n",
        "      <td> f</td>\n",
        "      <td> 0</td>\n",
        "      <td> t</td>\n",
        "      <td> g</td>\n",
        "      <td> 00200</td>\n",
        "      <td>  141</td>\n",
        "      <td> 0</td>\n",
        "    </tr>\n",
        "    <tr>\n",
        "      <th>673</th>\n",
        "      <td> NaN</td>\n",
        "      <td> 29.50</td>\n",
        "      <td>  2.000</td>\n",
        "      <td> y</td>\n",
        "      <td> p</td>\n",
        "      <td>   e</td>\n",
        "      <td>   h</td>\n",
        "      <td> 2.000</td>\n",
        "      <td> f</td>\n",
        "      <td> f</td>\n",
        "      <td> 0</td>\n",
        "      <td> f</td>\n",
        "      <td> g</td>\n",
        "      <td> 00256</td>\n",
        "      <td>   17</td>\n",
        "      <td> 0</td>\n",
        "    </tr>\n",
        "  </tbody>\n",
        "</table>\n",
        "</div>"
       ],
       "metadata": {},
       "output_type": "pyout",
       "prompt_number": 269,
       "text": [
        "      A1     A2      A3 A4 A5   A6   A7     A8 A9 A10  A11 A12 A13    A14  \\\n",
        "248  NaN  24.50  12.750  u  g    c   bb  4.750  t   t    2   f   g  00073   \n",
        "327  NaN  40.83   3.500  u  g    i   bb  0.500  f   f    0   f   s  01160   \n",
        "346  NaN  32.25   1.500  u  g    c    v  0.250  f   f    0   t   g  00372   \n",
        "374  NaN  28.17   0.585  u  g   aa    v  0.040  f   f    0   f   g  00260   \n",
        "453  NaN  29.75   0.665  u  g    w    v  0.250  f   f    0   t   g  00300   \n",
        "479  NaN  26.50   2.710  y  p  NaN  NaN  0.085  f   f    0   f   s  00080   \n",
        "489  NaN  45.33   1.000  u  g    q    v  0.125  f   f    0   t   g  00263   \n",
        "520  NaN  20.42   7.500  u  g    k    v  1.500  t   t    1   f   g  00160   \n",
        "598  NaN  20.08   0.125  u  g    q    v  1.000  f   t    1   f   g  00240   \n",
        "601  NaN  42.25   1.750  y  p  NaN  NaN  0.000  f   f    0   t   g  00150   \n",
        "641  NaN  33.17   2.250  y  p   cc    v  3.500  f   f    0   t   g  00200   \n",
        "673  NaN  29.50   2.000  y  p    e    h  2.000  f   f    0   f   g  00256   \n",
        "\n",
        "      A15  A16  \n",
        "248   444    1  \n",
        "327     0    0  \n",
        "346   122    0  \n",
        "374  1004    0  \n",
        "453     0    0  \n",
        "479     0    0  \n",
        "489     0    0  \n",
        "520   234    1  \n",
        "598   768    1  \n",
        "601     1    0  \n",
        "641   141    0  \n",
        "673    17    0  "
       ]
      }
     ],
     "prompt_number": 269
    },
    {
     "cell_type": "code",
     "collapsed": false,
     "input": [
      "# fill null values in A1 based on % distribution of a and b\n",
      "# size = 12 bc that's the number of null values in A1\n",
      "A1_fillna = np.random.choice(('a', 'b'), size = 12, p = (.31, .69))"
     ],
     "language": "python",
     "metadata": {},
     "outputs": [],
     "prompt_number": 270
    },
    {
     "cell_type": "code",
     "collapsed": false,
     "input": [
      "data.loc[data.A1.isnull(), 'A1'] = A1_fillna"
     ],
     "language": "python",
     "metadata": {},
     "outputs": [],
     "prompt_number": 271
    },
    {
     "cell_type": "code",
     "collapsed": false,
     "input": [
      "## fill A2\n",
      "# they're all numbers but listed as objects --> change to numbers\n",
      "data.A2 = data.A2.astype(float)\n",
      "# get mean and std dev so we can fill null values\n",
      "print 'Mean: ' , data.A2.mean()\n",
      "print 'Std dev: ', data.A2.std()"
     ],
     "language": "python",
     "metadata": {},
     "outputs": [
      {
       "output_type": "stream",
       "stream": "stdout",
       "text": [
        "Mean:  31.5681710914\n",
        "Std dev:  11.9578624983\n"
       ]
      }
     ],
     "prompt_number": 272
    },
    {
     "cell_type": "code",
     "collapsed": false,
     "input": [
      "# create a function that will impute the null values with values within 1 std dev of the mean\n",
      "def get_A2_impute_values(n):\n",
      "    return np.random.normal(data.A2.mean(), data.A2.std(), n)"
     ],
     "language": "python",
     "metadata": {},
     "outputs": [],
     "prompt_number": 273
    },
    {
     "cell_type": "code",
     "collapsed": false,
     "input": [
      "data.loc[data.A2.isnull(), 'A2'] = get_A2_impute_values(12)"
     ],
     "language": "python",
     "metadata": {},
     "outputs": [],
     "prompt_number": 274
    },
    {
     "cell_type": "code",
     "collapsed": false,
     "input": [
      "## null values in A4\n",
      "\n",
      "data[data.A4.isnull()]\n",
      "#these 6 people have a lot of columns with missing data"
     ],
     "language": "python",
     "metadata": {},
     "outputs": [
      {
       "html": [
        "<div style=\"max-height:1000px;max-width:1500px;overflow:auto;\">\n",
        "<table border=\"1\" class=\"dataframe\">\n",
        "  <thead>\n",
        "    <tr style=\"text-align: right;\">\n",
        "      <th></th>\n",
        "      <th>A1</th>\n",
        "      <th>A2</th>\n",
        "      <th>A3</th>\n",
        "      <th>A4</th>\n",
        "      <th>A5</th>\n",
        "      <th>A6</th>\n",
        "      <th>A7</th>\n",
        "      <th>A8</th>\n",
        "      <th>A9</th>\n",
        "      <th>A10</th>\n",
        "      <th>A11</th>\n",
        "      <th>A12</th>\n",
        "      <th>A13</th>\n",
        "      <th>A14</th>\n",
        "      <th>A15</th>\n",
        "      <th>A16</th>\n",
        "    </tr>\n",
        "  </thead>\n",
        "  <tbody>\n",
        "    <tr>\n",
        "      <th>206</th>\n",
        "      <td> a</td>\n",
        "      <td> 71.58</td>\n",
        "      <td> 0</td>\n",
        "      <td> NaN</td>\n",
        "      <td> NaN</td>\n",
        "      <td> NaN</td>\n",
        "      <td> NaN</td>\n",
        "      <td> 0</td>\n",
        "      <td> f</td>\n",
        "      <td> f</td>\n",
        "      <td> 0</td>\n",
        "      <td> f</td>\n",
        "      <td> p</td>\n",
        "      <td> NaN</td>\n",
        "      <td> 0</td>\n",
        "      <td> 1</td>\n",
        "    </tr>\n",
        "    <tr>\n",
        "      <th>270</th>\n",
        "      <td> b</td>\n",
        "      <td> 37.58</td>\n",
        "      <td> 0</td>\n",
        "      <td> NaN</td>\n",
        "      <td> NaN</td>\n",
        "      <td> NaN</td>\n",
        "      <td> NaN</td>\n",
        "      <td> 0</td>\n",
        "      <td> f</td>\n",
        "      <td> f</td>\n",
        "      <td> 0</td>\n",
        "      <td> f</td>\n",
        "      <td> p</td>\n",
        "      <td> NaN</td>\n",
        "      <td> 0</td>\n",
        "      <td> 1</td>\n",
        "    </tr>\n",
        "    <tr>\n",
        "      <th>330</th>\n",
        "      <td> b</td>\n",
        "      <td> 20.42</td>\n",
        "      <td> 0</td>\n",
        "      <td> NaN</td>\n",
        "      <td> NaN</td>\n",
        "      <td> NaN</td>\n",
        "      <td> NaN</td>\n",
        "      <td> 0</td>\n",
        "      <td> f</td>\n",
        "      <td> f</td>\n",
        "      <td> 0</td>\n",
        "      <td> f</td>\n",
        "      <td> p</td>\n",
        "      <td> NaN</td>\n",
        "      <td> 0</td>\n",
        "      <td> 0</td>\n",
        "    </tr>\n",
        "    <tr>\n",
        "      <th>456</th>\n",
        "      <td> b</td>\n",
        "      <td> 34.58</td>\n",
        "      <td> 0</td>\n",
        "      <td> NaN</td>\n",
        "      <td> NaN</td>\n",
        "      <td> NaN</td>\n",
        "      <td> NaN</td>\n",
        "      <td> 0</td>\n",
        "      <td> f</td>\n",
        "      <td> f</td>\n",
        "      <td> 0</td>\n",
        "      <td> f</td>\n",
        "      <td> p</td>\n",
        "      <td> NaN</td>\n",
        "      <td> 0</td>\n",
        "      <td> 0</td>\n",
        "    </tr>\n",
        "    <tr>\n",
        "      <th>592</th>\n",
        "      <td> b</td>\n",
        "      <td> 23.17</td>\n",
        "      <td> 0</td>\n",
        "      <td> NaN</td>\n",
        "      <td> NaN</td>\n",
        "      <td> NaN</td>\n",
        "      <td> NaN</td>\n",
        "      <td> 0</td>\n",
        "      <td> f</td>\n",
        "      <td> f</td>\n",
        "      <td> 0</td>\n",
        "      <td> f</td>\n",
        "      <td> p</td>\n",
        "      <td> NaN</td>\n",
        "      <td> 0</td>\n",
        "      <td> 1</td>\n",
        "    </tr>\n",
        "    <tr>\n",
        "      <th>622</th>\n",
        "      <td> a</td>\n",
        "      <td> 25.58</td>\n",
        "      <td> 0</td>\n",
        "      <td> NaN</td>\n",
        "      <td> NaN</td>\n",
        "      <td> NaN</td>\n",
        "      <td> NaN</td>\n",
        "      <td> 0</td>\n",
        "      <td> f</td>\n",
        "      <td> f</td>\n",
        "      <td> 0</td>\n",
        "      <td> f</td>\n",
        "      <td> p</td>\n",
        "      <td> NaN</td>\n",
        "      <td> 0</td>\n",
        "      <td> 1</td>\n",
        "    </tr>\n",
        "  </tbody>\n",
        "</table>\n",
        "</div>"
       ],
       "metadata": {},
       "output_type": "pyout",
       "prompt_number": 275,
       "text": [
        "    A1     A2  A3   A4   A5   A6   A7  A8 A9 A10  A11 A12 A13  A14  A15  A16\n",
        "206  a  71.58   0  NaN  NaN  NaN  NaN   0  f   f    0   f   p  NaN    0    1\n",
        "270  b  37.58   0  NaN  NaN  NaN  NaN   0  f   f    0   f   p  NaN    0    1\n",
        "330  b  20.42   0  NaN  NaN  NaN  NaN   0  f   f    0   f   p  NaN    0    0\n",
        "456  b  34.58   0  NaN  NaN  NaN  NaN   0  f   f    0   f   p  NaN    0    0\n",
        "592  b  23.17   0  NaN  NaN  NaN  NaN   0  f   f    0   f   p  NaN    0    1\n",
        "622  a  25.58   0  NaN  NaN  NaN  NaN   0  f   f    0   f   p  NaN    0    1"
       ]
      }
     ],
     "prompt_number": 275
    },
    {
     "cell_type": "code",
     "collapsed": false,
     "input": [
      "# if we remove them, will it be a very significant change?\n",
      "approved_count = data.A16[data.A16 == 1].count()\n",
      "notapproved_count = data.A16[data.A16 == 0].count()\n",
      "\n",
      "print float(approved_count-4)/approved_count\n",
      "print float(notapproved_count-2)/notapproved_count\n",
      "# based on the percentages for when we remove these it appears it is not\n",
      "#a huge deal to remove them"
     ],
     "language": "python",
     "metadata": {},
     "outputs": [
      {
       "output_type": "stream",
       "stream": "stdout",
       "text": [
        "0.986970684039\n",
        "0.994778067885\n"
       ]
      }
     ],
     "prompt_number": 276
    },
    {
     "cell_type": "code",
     "collapsed": false,
     "input": [
      "# drop all rows where value in A4 is null\n",
      "data.dropna(subset=['A4'], how='all', inplace = True)"
     ],
     "language": "python",
     "metadata": {},
     "outputs": [],
     "prompt_number": 277
    },
    {
     "cell_type": "code",
     "collapsed": false,
     "input": [
      "## null values in A6 and 7\n",
      "data[data.A6.isnull()]"
     ],
     "language": "python",
     "metadata": {},
     "outputs": [
      {
       "html": [
        "<div style=\"max-height:1000px;max-width:1500px;overflow:auto;\">\n",
        "<table border=\"1\" class=\"dataframe\">\n",
        "  <thead>\n",
        "    <tr style=\"text-align: right;\">\n",
        "      <th></th>\n",
        "      <th>A1</th>\n",
        "      <th>A2</th>\n",
        "      <th>A3</th>\n",
        "      <th>A4</th>\n",
        "      <th>A5</th>\n",
        "      <th>A6</th>\n",
        "      <th>A7</th>\n",
        "      <th>A8</th>\n",
        "      <th>A9</th>\n",
        "      <th>A10</th>\n",
        "      <th>A11</th>\n",
        "      <th>A12</th>\n",
        "      <th>A13</th>\n",
        "      <th>A14</th>\n",
        "      <th>A15</th>\n",
        "      <th>A16</th>\n",
        "    </tr>\n",
        "  </thead>\n",
        "  <tbody>\n",
        "    <tr>\n",
        "      <th>479</th>\n",
        "      <td> b</td>\n",
        "      <td> 26.50</td>\n",
        "      <td> 2.71</td>\n",
        "      <td> y</td>\n",
        "      <td> p</td>\n",
        "      <td> NaN</td>\n",
        "      <td> NaN</td>\n",
        "      <td> 0.085</td>\n",
        "      <td> f</td>\n",
        "      <td> f</td>\n",
        "      <td> 0</td>\n",
        "      <td> f</td>\n",
        "      <td> s</td>\n",
        "      <td> 00080</td>\n",
        "      <td>   0</td>\n",
        "      <td> 0</td>\n",
        "    </tr>\n",
        "    <tr>\n",
        "      <th>539</th>\n",
        "      <td> b</td>\n",
        "      <td> 80.25</td>\n",
        "      <td> 5.50</td>\n",
        "      <td> u</td>\n",
        "      <td> g</td>\n",
        "      <td> NaN</td>\n",
        "      <td> NaN</td>\n",
        "      <td> 0.540</td>\n",
        "      <td> t</td>\n",
        "      <td> f</td>\n",
        "      <td> 0</td>\n",
        "      <td> f</td>\n",
        "      <td> g</td>\n",
        "      <td> 00000</td>\n",
        "      <td> 340</td>\n",
        "      <td> 0</td>\n",
        "    </tr>\n",
        "    <tr>\n",
        "      <th>601</th>\n",
        "      <td> b</td>\n",
        "      <td> 42.25</td>\n",
        "      <td> 1.75</td>\n",
        "      <td> y</td>\n",
        "      <td> p</td>\n",
        "      <td> NaN</td>\n",
        "      <td> NaN</td>\n",
        "      <td> 0.000</td>\n",
        "      <td> f</td>\n",
        "      <td> f</td>\n",
        "      <td> 0</td>\n",
        "      <td> t</td>\n",
        "      <td> g</td>\n",
        "      <td> 00150</td>\n",
        "      <td>   1</td>\n",
        "      <td> 0</td>\n",
        "    </tr>\n",
        "  </tbody>\n",
        "</table>\n",
        "</div>"
       ],
       "metadata": {},
       "output_type": "pyout",
       "prompt_number": 278,
       "text": [
        "    A1     A2    A3 A4 A5   A6   A7     A8 A9 A10  A11 A12 A13    A14  A15  \\\n",
        "479  b  26.50  2.71  y  p  NaN  NaN  0.085  f   f    0   f   s  00080    0   \n",
        "539  b  80.25  5.50  u  g  NaN  NaN  0.540  t   f    0   f   g  00000  340   \n",
        "601  b  42.25  1.75  y  p  NaN  NaN  0.000  f   f    0   t   g  00150    1   \n",
        "\n",
        "     A16  \n",
        "479    0  \n",
        "539    0  \n",
        "601    0  "
       ]
      }
     ],
     "prompt_number": 278
    },
    {
     "cell_type": "code",
     "collapsed": false,
     "input": [
      "sum(data.A6.value_counts())\n"
     ],
     "language": "python",
     "metadata": {},
     "outputs": [
      {
       "metadata": {},
       "output_type": "pyout",
       "prompt_number": 279,
       "text": [
        "681"
       ]
      }
     ],
     "prompt_number": 279
    },
    {
     "cell_type": "code",
     "collapsed": false,
     "input": [
      "data.A6.value_counts()"
     ],
     "language": "python",
     "metadata": {},
     "outputs": [
      {
       "metadata": {},
       "output_type": "pyout",
       "prompt_number": 280,
       "text": [
        "c     137\n",
        "q      78\n",
        "w      64\n",
        "i      59\n",
        "aa     54\n",
        "ff     53\n",
        "k      51\n",
        "cc     41\n",
        "x      38\n",
        "m      38\n",
        "d      30\n",
        "e      25\n",
        "j      10\n",
        "r       3\n",
        "dtype: int64"
       ]
      }
     ],
     "prompt_number": 280
    },
    {
     "cell_type": "code",
     "collapsed": false,
     "input": [
      "# based on the distribution we see, we're just going to take the mode\n",
      "A6_mode = [data.A6.mode()]\n",
      "data.loc[data.A6.isnull(), 'A6'] = A6_mode\n",
      "data.A6.value_counts()"
     ],
     "language": "python",
     "metadata": {},
     "outputs": [
      {
       "metadata": {},
       "output_type": "pyout",
       "prompt_number": 281,
       "text": [
        "c     140\n",
        "q      78\n",
        "w      64\n",
        "i      59\n",
        "aa     54\n",
        "ff     53\n",
        "k      51\n",
        "cc     41\n",
        "x      38\n",
        "m      38\n",
        "d      30\n",
        "e      25\n",
        "j      10\n",
        "r       3\n",
        "dtype: int64"
       ]
      }
     ],
     "prompt_number": 281
    },
    {
     "cell_type": "code",
     "collapsed": false,
     "input": [
      "data[data.A7.isnull()]"
     ],
     "language": "python",
     "metadata": {},
     "outputs": [
      {
       "html": [
        "<div style=\"max-height:1000px;max-width:1500px;overflow:auto;\">\n",
        "<table border=\"1\" class=\"dataframe\">\n",
        "  <thead>\n",
        "    <tr style=\"text-align: right;\">\n",
        "      <th></th>\n",
        "      <th>A1</th>\n",
        "      <th>A2</th>\n",
        "      <th>A3</th>\n",
        "      <th>A4</th>\n",
        "      <th>A5</th>\n",
        "      <th>A6</th>\n",
        "      <th>A7</th>\n",
        "      <th>A8</th>\n",
        "      <th>A9</th>\n",
        "      <th>A10</th>\n",
        "      <th>A11</th>\n",
        "      <th>A12</th>\n",
        "      <th>A13</th>\n",
        "      <th>A14</th>\n",
        "      <th>A15</th>\n",
        "      <th>A16</th>\n",
        "    </tr>\n",
        "  </thead>\n",
        "  <tbody>\n",
        "    <tr>\n",
        "      <th>479</th>\n",
        "      <td> b</td>\n",
        "      <td> 26.50</td>\n",
        "      <td> 2.71</td>\n",
        "      <td> y</td>\n",
        "      <td> p</td>\n",
        "      <td> c</td>\n",
        "      <td> NaN</td>\n",
        "      <td> 0.085</td>\n",
        "      <td> f</td>\n",
        "      <td> f</td>\n",
        "      <td> 0</td>\n",
        "      <td> f</td>\n",
        "      <td> s</td>\n",
        "      <td> 00080</td>\n",
        "      <td>   0</td>\n",
        "      <td> 0</td>\n",
        "    </tr>\n",
        "    <tr>\n",
        "      <th>539</th>\n",
        "      <td> b</td>\n",
        "      <td> 80.25</td>\n",
        "      <td> 5.50</td>\n",
        "      <td> u</td>\n",
        "      <td> g</td>\n",
        "      <td> c</td>\n",
        "      <td> NaN</td>\n",
        "      <td> 0.540</td>\n",
        "      <td> t</td>\n",
        "      <td> f</td>\n",
        "      <td> 0</td>\n",
        "      <td> f</td>\n",
        "      <td> g</td>\n",
        "      <td> 00000</td>\n",
        "      <td> 340</td>\n",
        "      <td> 0</td>\n",
        "    </tr>\n",
        "    <tr>\n",
        "      <th>601</th>\n",
        "      <td> b</td>\n",
        "      <td> 42.25</td>\n",
        "      <td> 1.75</td>\n",
        "      <td> y</td>\n",
        "      <td> p</td>\n",
        "      <td> c</td>\n",
        "      <td> NaN</td>\n",
        "      <td> 0.000</td>\n",
        "      <td> f</td>\n",
        "      <td> f</td>\n",
        "      <td> 0</td>\n",
        "      <td> t</td>\n",
        "      <td> g</td>\n",
        "      <td> 00150</td>\n",
        "      <td>   1</td>\n",
        "      <td> 0</td>\n",
        "    </tr>\n",
        "  </tbody>\n",
        "</table>\n",
        "</div>"
       ],
       "metadata": {},
       "output_type": "pyout",
       "prompt_number": 282,
       "text": [
        "    A1     A2    A3 A4 A5 A6   A7     A8 A9 A10  A11 A12 A13    A14  A15  A16\n",
        "479  b  26.50  2.71  y  p  c  NaN  0.085  f   f    0   f   s  00080    0    0\n",
        "539  b  80.25  5.50  u  g  c  NaN  0.540  t   f    0   f   g  00000  340    0\n",
        "601  b  42.25  1.75  y  p  c  NaN  0.000  f   f    0   t   g  00150    1    0"
       ]
      }
     ],
     "prompt_number": 282
    },
    {
     "cell_type": "code",
     "collapsed": false,
     "input": [
      "data.A7.value_counts()"
     ],
     "language": "python",
     "metadata": {},
     "outputs": [
      {
       "metadata": {},
       "output_type": "pyout",
       "prompt_number": 283,
       "text": [
        "v     399\n",
        "h     138\n",
        "bb     59\n",
        "ff     57\n",
        "z       8\n",
        "j       8\n",
        "dd      6\n",
        "n       4\n",
        "o       2\n",
        "dtype: int64"
       ]
      }
     ],
     "prompt_number": 283
    },
    {
     "cell_type": "code",
     "collapsed": false,
     "input": [
      "# based on the distribution we see, we're just going to take the mode again\n",
      "data.loc[data.A7.isnull(), 'A7'] = [data.A7.mode()]\n",
      "data.A7.value_counts()"
     ],
     "language": "python",
     "metadata": {},
     "outputs": [
      {
       "metadata": {},
       "output_type": "pyout",
       "prompt_number": 284,
       "text": [
        "v     402\n",
        "h     138\n",
        "bb     59\n",
        "ff     57\n",
        "z       8\n",
        "j       8\n",
        "dd      6\n",
        "n       4\n",
        "o       2\n",
        "dtype: int64"
       ]
      }
     ],
     "prompt_number": 284
    },
    {
     "cell_type": "code",
     "collapsed": false,
     "input": [
      "data.info()\n",
      "# based on this, we determine the only remaining column with null values is A14"
     ],
     "language": "python",
     "metadata": {},
     "outputs": [
      {
       "output_type": "stream",
       "stream": "stdout",
       "text": [
        "<class 'pandas.core.frame.DataFrame'>\n",
        "Int64Index: 684 entries, 0 to 689\n",
        "Data columns (total 16 columns):\n",
        "A1     684 non-null object\n",
        "A2     684 non-null float64\n",
        "A3     684 non-null float64\n",
        "A4     684 non-null object\n",
        "A5     684 non-null object\n",
        "A6     684 non-null object\n",
        "A7     684 non-null object\n",
        "A8     684 non-null float64\n",
        "A9     684 non-null object\n",
        "A10    684 non-null object\n",
        "A11    684 non-null int64\n",
        "A12    684 non-null object\n",
        "A13    684 non-null object\n",
        "A14    677 non-null object\n",
        "A15    684 non-null int64\n",
        "A16    684 non-null int64\n",
        "dtypes: float64(3), int64(3), object(10)\n",
        "memory usage: 90.8+ KB\n"
       ]
      }
     ],
     "prompt_number": 285
    },
    {
     "cell_type": "code",
     "collapsed": false,
     "input": [
      "data[data.A14.isnull()]"
     ],
     "language": "python",
     "metadata": {},
     "outputs": [
      {
       "html": [
        "<div style=\"max-height:1000px;max-width:1500px;overflow:auto;\">\n",
        "<table border=\"1\" class=\"dataframe\">\n",
        "  <thead>\n",
        "    <tr style=\"text-align: right;\">\n",
        "      <th></th>\n",
        "      <th>A1</th>\n",
        "      <th>A2</th>\n",
        "      <th>A3</th>\n",
        "      <th>A4</th>\n",
        "      <th>A5</th>\n",
        "      <th>A6</th>\n",
        "      <th>A7</th>\n",
        "      <th>A8</th>\n",
        "      <th>A9</th>\n",
        "      <th>A10</th>\n",
        "      <th>A11</th>\n",
        "      <th>A12</th>\n",
        "      <th>A13</th>\n",
        "      <th>A14</th>\n",
        "      <th>A15</th>\n",
        "      <th>A16</th>\n",
        "    </tr>\n",
        "  </thead>\n",
        "  <tbody>\n",
        "    <tr>\n",
        "      <th>71 </th>\n",
        "      <td> b</td>\n",
        "      <td> 34.83000</td>\n",
        "      <td>  4.000</td>\n",
        "      <td> u</td>\n",
        "      <td> g</td>\n",
        "      <td>  d</td>\n",
        "      <td> bb</td>\n",
        "      <td> 12.500</td>\n",
        "      <td> t</td>\n",
        "      <td> f</td>\n",
        "      <td> 0</td>\n",
        "      <td> t</td>\n",
        "      <td> g</td>\n",
        "      <td> NaN</td>\n",
        "      <td>     0</td>\n",
        "      <td> 0</td>\n",
        "    </tr>\n",
        "    <tr>\n",
        "      <th>202</th>\n",
        "      <td> b</td>\n",
        "      <td> 24.83000</td>\n",
        "      <td>  2.750</td>\n",
        "      <td> u</td>\n",
        "      <td> g</td>\n",
        "      <td>  c</td>\n",
        "      <td>  v</td>\n",
        "      <td>  2.250</td>\n",
        "      <td> t</td>\n",
        "      <td> t</td>\n",
        "      <td> 6</td>\n",
        "      <td> f</td>\n",
        "      <td> g</td>\n",
        "      <td> NaN</td>\n",
        "      <td>   600</td>\n",
        "      <td> 1</td>\n",
        "    </tr>\n",
        "    <tr>\n",
        "      <th>243</th>\n",
        "      <td> a</td>\n",
        "      <td> 18.75000</td>\n",
        "      <td>  7.500</td>\n",
        "      <td> u</td>\n",
        "      <td> g</td>\n",
        "      <td>  q</td>\n",
        "      <td>  v</td>\n",
        "      <td>  2.710</td>\n",
        "      <td> t</td>\n",
        "      <td> t</td>\n",
        "      <td> 5</td>\n",
        "      <td> f</td>\n",
        "      <td> g</td>\n",
        "      <td> NaN</td>\n",
        "      <td> 26726</td>\n",
        "      <td> 1</td>\n",
        "    </tr>\n",
        "    <tr>\n",
        "      <th>278</th>\n",
        "      <td> b</td>\n",
        "      <td> 24.58000</td>\n",
        "      <td> 13.500</td>\n",
        "      <td> y</td>\n",
        "      <td> p</td>\n",
        "      <td> ff</td>\n",
        "      <td> ff</td>\n",
        "      <td>  0.000</td>\n",
        "      <td> f</td>\n",
        "      <td> f</td>\n",
        "      <td> 0</td>\n",
        "      <td> f</td>\n",
        "      <td> g</td>\n",
        "      <td> NaN</td>\n",
        "      <td>     0</td>\n",
        "      <td> 0</td>\n",
        "    </tr>\n",
        "    <tr>\n",
        "      <th>406</th>\n",
        "      <td> a</td>\n",
        "      <td> 40.33000</td>\n",
        "      <td>  8.125</td>\n",
        "      <td> y</td>\n",
        "      <td> p</td>\n",
        "      <td>  k</td>\n",
        "      <td>  v</td>\n",
        "      <td>  0.165</td>\n",
        "      <td> f</td>\n",
        "      <td> t</td>\n",
        "      <td> 2</td>\n",
        "      <td> f</td>\n",
        "      <td> g</td>\n",
        "      <td> NaN</td>\n",
        "      <td>    18</td>\n",
        "      <td> 0</td>\n",
        "    </tr>\n",
        "    <tr>\n",
        "      <th>445</th>\n",
        "      <td> a</td>\n",
        "      <td> 21.19191</td>\n",
        "      <td> 11.250</td>\n",
        "      <td> u</td>\n",
        "      <td> g</td>\n",
        "      <td> ff</td>\n",
        "      <td> ff</td>\n",
        "      <td>  0.000</td>\n",
        "      <td> f</td>\n",
        "      <td> f</td>\n",
        "      <td> 0</td>\n",
        "      <td> f</td>\n",
        "      <td> g</td>\n",
        "      <td> NaN</td>\n",
        "      <td>  5200</td>\n",
        "      <td> 0</td>\n",
        "    </tr>\n",
        "    <tr>\n",
        "      <th>626</th>\n",
        "      <td> b</td>\n",
        "      <td> 22.00000</td>\n",
        "      <td>  7.835</td>\n",
        "      <td> y</td>\n",
        "      <td> p</td>\n",
        "      <td>  i</td>\n",
        "      <td> bb</td>\n",
        "      <td>  0.165</td>\n",
        "      <td> f</td>\n",
        "      <td> f</td>\n",
        "      <td> 0</td>\n",
        "      <td> t</td>\n",
        "      <td> g</td>\n",
        "      <td> NaN</td>\n",
        "      <td>     0</td>\n",
        "      <td> 0</td>\n",
        "    </tr>\n",
        "  </tbody>\n",
        "</table>\n",
        "</div>"
       ],
       "metadata": {},
       "output_type": "pyout",
       "prompt_number": 286,
       "text": [
        "    A1        A2      A3 A4 A5  A6  A7      A8 A9 A10  A11 A12 A13  A14  \\\n",
        "71   b  34.83000   4.000  u  g   d  bb  12.500  t   f    0   t   g  NaN   \n",
        "202  b  24.83000   2.750  u  g   c   v   2.250  t   t    6   f   g  NaN   \n",
        "243  a  18.75000   7.500  u  g   q   v   2.710  t   t    5   f   g  NaN   \n",
        "278  b  24.58000  13.500  y  p  ff  ff   0.000  f   f    0   f   g  NaN   \n",
        "406  a  40.33000   8.125  y  p   k   v   0.165  f   t    2   f   g  NaN   \n",
        "445  a  21.19191  11.250  u  g  ff  ff   0.000  f   f    0   f   g  NaN   \n",
        "626  b  22.00000   7.835  y  p   i  bb   0.165  f   f    0   t   g  NaN   \n",
        "\n",
        "       A15  A16  \n",
        "71       0    0  \n",
        "202    600    1  \n",
        "243  26726    1  \n",
        "278      0    0  \n",
        "406     18    0  \n",
        "445   5200    0  \n",
        "626      0    0  "
       ]
      }
     ],
     "prompt_number": 286
    },
    {
     "cell_type": "code",
     "collapsed": false,
     "input": [
      "data.A14.value_counts()"
     ],
     "language": "python",
     "metadata": {},
     "outputs": [
      {
       "metadata": {},
       "output_type": "pyout",
       "prompt_number": 287,
       "text": [
        "00000    132\n",
        "00200     35\n",
        "00120     35\n",
        "00160     34\n",
        "00080     30\n",
        "00100     30\n",
        "00280     22\n",
        "00180     18\n",
        "00140     16\n",
        "00240     14\n",
        "00320     14\n",
        "00300     13\n",
        "00260     11\n",
        "00220      9\n",
        "00400      9\n",
        "...\n",
        "00980    1\n",
        "00256    1\n",
        "00470    1\n",
        "00263    1\n",
        "00431    1\n",
        "00375    1\n",
        "00434    1\n",
        "00372    1\n",
        "00276    1\n",
        "00371    1\n",
        "00075    1\n",
        "00432    1\n",
        "00333    1\n",
        "00519    1\n",
        "00017    1\n",
        "Length: 170, dtype: int64"
       ]
      }
     ],
     "prompt_number": 287
    },
    {
     "cell_type": "code",
     "collapsed": false,
     "input": [
      "# looks like we're going to use the mode again...\n",
      "data.loc[data.A14.isnull(), 'A14'] = [data.A14.mode()]\n",
      "data.A14.value_counts()"
     ],
     "language": "python",
     "metadata": {},
     "outputs": [
      {
       "metadata": {},
       "output_type": "pyout",
       "prompt_number": 289,
       "text": [
        "00000    139\n",
        "00200     35\n",
        "00120     35\n",
        "00160     34\n",
        "00080     30\n",
        "00100     30\n",
        "00280     22\n",
        "00180     18\n",
        "00140     16\n",
        "00240     14\n",
        "00320     14\n",
        "00300     13\n",
        "00260     11\n",
        "00220      9\n",
        "00400      9\n",
        "...\n",
        "00980    1\n",
        "00256    1\n",
        "00470    1\n",
        "00263    1\n",
        "00431    1\n",
        "00375    1\n",
        "00434    1\n",
        "00372    1\n",
        "00276    1\n",
        "00371    1\n",
        "00075    1\n",
        "00432    1\n",
        "00333    1\n",
        "00519    1\n",
        "00017    1\n",
        "Length: 170, dtype: int64"
       ]
      }
     ],
     "prompt_number": 289
    },
    {
     "cell_type": "code",
     "collapsed": false,
     "input": [
      "data.describe()"
     ],
     "language": "python",
     "metadata": {},
     "outputs": [
      {
       "html": [
        "<div style=\"max-height:1000px;max-width:1500px;overflow:auto;\">\n",
        "<table border=\"1\" class=\"dataframe\">\n",
        "  <thead>\n",
        "    <tr style=\"text-align: right;\">\n",
        "      <th></th>\n",
        "      <th>A2</th>\n",
        "      <th>A3</th>\n",
        "      <th>A8</th>\n",
        "      <th>A11</th>\n",
        "      <th>A15</th>\n",
        "      <th>A16</th>\n",
        "    </tr>\n",
        "  </thead>\n",
        "  <tbody>\n",
        "    <tr>\n",
        "      <th>count</th>\n",
        "      <td> 684.000000</td>\n",
        "      <td> 684.000000</td>\n",
        "      <td> 684.000000</td>\n",
        "      <td> 684.000000</td>\n",
        "      <td>    684.000000</td>\n",
        "      <td> 684.000000</td>\n",
        "    </tr>\n",
        "    <tr>\n",
        "      <th>mean</th>\n",
        "      <td>  31.490551</td>\n",
        "      <td>   4.800468</td>\n",
        "      <td>   2.242909</td>\n",
        "      <td>   2.421053</td>\n",
        "      <td>   1026.309942</td>\n",
        "      <td>   0.442982</td>\n",
        "    </tr>\n",
        "    <tr>\n",
        "      <th>std</th>\n",
        "      <td>  11.867203</td>\n",
        "      <td>   4.979873</td>\n",
        "      <td>   3.354657</td>\n",
        "      <td>   4.879025</td>\n",
        "      <td>   5232.060836</td>\n",
        "      <td>   0.497102</td>\n",
        "    </tr>\n",
        "    <tr>\n",
        "      <th>min</th>\n",
        "      <td>  12.081507</td>\n",
        "      <td>   0.000000</td>\n",
        "      <td>   0.000000</td>\n",
        "      <td>   0.000000</td>\n",
        "      <td>      0.000000</td>\n",
        "      <td>   0.000000</td>\n",
        "    </tr>\n",
        "    <tr>\n",
        "      <th>25%</th>\n",
        "      <td>  22.580000</td>\n",
        "      <td>   1.030000</td>\n",
        "      <td>   0.165000</td>\n",
        "      <td>   0.000000</td>\n",
        "      <td>      0.000000</td>\n",
        "      <td>   0.000000</td>\n",
        "    </tr>\n",
        "    <tr>\n",
        "      <th>50%</th>\n",
        "      <td>  28.375000</td>\n",
        "      <td>   2.855000</td>\n",
        "      <td>   1.000000</td>\n",
        "      <td>   0.000000</td>\n",
        "      <td>      5.000000</td>\n",
        "      <td>   0.000000</td>\n",
        "    </tr>\n",
        "    <tr>\n",
        "      <th>75%</th>\n",
        "      <td>  38.190000</td>\n",
        "      <td>   7.500000</td>\n",
        "      <td>   2.720000</td>\n",
        "      <td>   3.000000</td>\n",
        "      <td>    400.000000</td>\n",
        "      <td>   1.000000</td>\n",
        "    </tr>\n",
        "    <tr>\n",
        "      <th>max</th>\n",
        "      <td>  80.250000</td>\n",
        "      <td>  28.000000</td>\n",
        "      <td>  28.500000</td>\n",
        "      <td>  67.000000</td>\n",
        "      <td> 100000.000000</td>\n",
        "      <td>   1.000000</td>\n",
        "    </tr>\n",
        "  </tbody>\n",
        "</table>\n",
        "</div>"
       ],
       "metadata": {},
       "output_type": "pyout",
       "prompt_number": 290,
       "text": [
        "               A2          A3          A8         A11            A15  \\\n",
        "count  684.000000  684.000000  684.000000  684.000000     684.000000   \n",
        "mean    31.490551    4.800468    2.242909    2.421053    1026.309942   \n",
        "std     11.867203    4.979873    3.354657    4.879025    5232.060836   \n",
        "min     12.081507    0.000000    0.000000    0.000000       0.000000   \n",
        "25%     22.580000    1.030000    0.165000    0.000000       0.000000   \n",
        "50%     28.375000    2.855000    1.000000    0.000000       5.000000   \n",
        "75%     38.190000    7.500000    2.720000    3.000000     400.000000   \n",
        "max     80.250000   28.000000   28.500000   67.000000  100000.000000   \n",
        "\n",
        "              A16  \n",
        "count  684.000000  \n",
        "mean     0.442982  \n",
        "std      0.497102  \n",
        "min      0.000000  \n",
        "25%      0.000000  \n",
        "50%      0.000000  \n",
        "75%      1.000000  \n",
        "max      1.000000  "
       ]
      }
     ],
     "prompt_number": 290
    },
    {
     "cell_type": "code",
     "collapsed": false,
     "input": [
      "'''\n",
      "Now is probably the time to split this into train/test...\n",
      "I got a little overwhelmed with: \n",
      "1. When I would add dummies & how that might impact things\n",
      "2. If you add dummies and then split, how do you do exploratory plots?\n",
      "\n",
      "I guess you could split into a theoretical training set and then later\n",
      "add my dummies to the original whole dataset and train-test-split to do\n",
      "the modeling...\n",
      "'''"
     ],
     "language": "python",
     "metadata": {},
     "outputs": []
    },
    {
     "cell_type": "code",
     "collapsed": false,
     "input": [
      "## PLOT STUFF TO SEE WHAT IT LOOKS LIKE\n",
      "\n",
      "data.A2.hist(bins = 50)"
     ],
     "language": "python",
     "metadata": {},
     "outputs": [
      {
       "metadata": {},
       "output_type": "pyout",
       "prompt_number": 302,
       "text": [
        "<matplotlib.axes._subplots.AxesSubplot at 0x10d02a190>"
       ]
      },
      {
       "metadata": {},
       "output_type": "display_data",
       "png": "[encoded data removed]",
       "text": [
        "<matplotlib.figure.Figure at 0x10d391fd0>"
       ]
      }
     ],
     "prompt_number": 302
    },
    {
     "cell_type": "code",
     "collapsed": false,
     "input": [
      "data.A1.value_counts().plot(kind = 'bar')"
     ],
     "language": "python",
     "metadata": {},
     "outputs": [
      {
       "metadata": {},
       "output_type": "pyout",
       "prompt_number": 303,
       "text": [
        "<matplotlib.axes._subplots.AxesSubplot at 0x10d532310>"
       ]
      },
      {
       "metadata": {},
       "output_type": "display_data",
       "png": "[encoded data removed]",
       "text": [
        "<matplotlib.figure.Figure at 0x10d555e90>"
       ]
      }
     ],
     "prompt_number": 303
    },
    {
     "cell_type": "code",
     "collapsed": false,
     "input": [
      "data.A4.value_counts().plot(kind = 'bar')"
     ],
     "language": "python",
     "metadata": {},
     "outputs": [
      {
       "metadata": {},
       "output_type": "pyout",
       "prompt_number": 304,
       "text": [
        "<matplotlib.axes._subplots.AxesSubplot at 0x10d7008d0>"
       ]
      },
      {
       "metadata": {},
       "output_type": "display_data",
       "png": "[encoded data removed]",
       "text": [
        "<matplotlib.figure.Figure at 0x10d399150>"
       ]
      }
     ],
     "prompt_number": 304
    },
    {
     "cell_type": "code",
     "collapsed": false,
     "input": [
      "data.A5.value_counts().plot(kind = 'bar')"
     ],
     "language": "python",
     "metadata": {},
     "outputs": [
      {
       "metadata": {},
       "output_type": "pyout",
       "prompt_number": 305,
       "text": [
        "<matplotlib.axes._subplots.AxesSubplot at 0x10d770110>"
       ]
      },
      {
       "metadata": {},
       "output_type": "display_data",
       "png": "[encoded data removed]",
       "text": [
        "<matplotlib.figure.Figure at 0x10d7e7350>"
       ]
      }
     ],
     "prompt_number": 305
    },
    {
     "cell_type": "code",
     "collapsed": false,
     "input": [
      "data.A6.value_counts().plot(kind = 'bar')"
     ],
     "language": "python",
     "metadata": {},
     "outputs": [
      {
       "metadata": {},
       "output_type": "pyout",
       "prompt_number": 306,
       "text": [
        "<matplotlib.axes._subplots.AxesSubplot at 0x10d7df2d0>"
       ]
      },
      {
       "metadata": {},
       "output_type": "display_data",
       "png": "[encoded data removed]",
       "text": [
        "<matplotlib.figure.Figure at 0x10d88d210>"
       ]
      }
     ],
     "prompt_number": 306
    },
    {
     "cell_type": "code",
     "collapsed": false,
     "input": [
      "data.A7.value_counts().plot(kind = 'bar')"
     ],
     "language": "python",
     "metadata": {},
     "outputs": [
      {
       "metadata": {},
       "output_type": "pyout",
       "prompt_number": 307,
       "text": [
        "<matplotlib.axes._subplots.AxesSubplot at 0x10da8dcd0>"
       ]
      },
      {
       "metadata": {},
       "output_type": "display_data",
       "png": "[encoded data removed]",
       "text": [
        "<matplotlib.figure.Figure at 0x10d8448d0>"
       ]
      }
     ],
     "prompt_number": 307
    },
    {
     "cell_type": "code",
     "collapsed": false,
     "input": [
      "data.A8.value_counts().plot(kind = 'bar')"
     ],
     "language": "python",
     "metadata": {},
     "outputs": [
      {
       "metadata": {},
       "output_type": "pyout",
       "prompt_number": 308,
       "text": [
        "<matplotlib.axes._subplots.AxesSubplot at 0x10dd5ba90>"
       ]
      },
      {
       "metadata": {},
       "output_type": "display_data",
       "png": "[encoded data removed]",
       "text": [
        "<matplotlib.figure.Figure at 0x10dd6d190>"
       ]
      }
     ],
     "prompt_number": 308
    },
    {
     "cell_type": "code",
     "collapsed": false,
     "input": [
      "data.A9.value_counts().plot(kind = 'bar')"
     ],
     "language": "python",
     "metadata": {},
     "outputs": [
      {
       "metadata": {},
       "output_type": "pyout",
       "prompt_number": 309,
       "text": [
        "<matplotlib.axes._subplots.AxesSubplot at 0x10ded4a90>"
       ]
      },
      {
       "metadata": {},
       "output_type": "display_data",
       "png": "[encoded data removed]",
       "text": [
        "<matplotlib.figure.Figure at 0x10d98e690>"
       ]
      }
     ],
     "prompt_number": 309
    },
    {
     "cell_type": "code",
     "collapsed": false,
     "input": [
      "data.A10.value_counts().plot(kind = 'bar')"
     ],
     "language": "python",
     "metadata": {},
     "outputs": [
      {
       "metadata": {},
       "output_type": "pyout",
       "prompt_number": 310,
       "text": [
        "<matplotlib.axes._subplots.AxesSubplot at 0x10e9434d0>"
       ]
      },
      {
       "metadata": {},
       "output_type": "display_data",
       "png": "[encoded data removed]",
       "text": [
        "<matplotlib.figure.Figure at 0x10ec2ea50>"
       ]
      }
     ],
     "prompt_number": 310
    },
    {
     "cell_type": "code",
     "collapsed": false,
     "input": [
      "data.A11.value_counts().plot(kind = 'bar')"
     ],
     "language": "python",
     "metadata": {},
     "outputs": [
      {
       "metadata": {},
       "output_type": "pyout",
       "prompt_number": 311,
       "text": [
        "<matplotlib.axes._subplots.AxesSubplot at 0x10ddc0410>"
       ]
      },
      {
       "metadata": {},
       "output_type": "display_data",
       "png": "[encoded data removed]",
       "text": [
        "<matplotlib.figure.Figure at 0x10f225390>"
       ]
      }
     ],
     "prompt_number": 311
    },
    {
     "cell_type": "code",
     "collapsed": false,
     "input": [
      "data.A12.value_counts().plot(kind = 'bar')"
     ],
     "language": "python",
     "metadata": {},
     "outputs": [
      {
       "metadata": {},
       "output_type": "pyout",
       "prompt_number": 312,
       "text": [
        "<matplotlib.axes._subplots.AxesSubplot at 0x10f315f10>"
       ]
      },
      {
       "metadata": {},
       "output_type": "display_data",
       "png": "[encoded data removed]",
       "text": [
        "<matplotlib.figure.Figure at 0x10f33a6d0>"
       ]
      }
     ],
     "prompt_number": 312
    },
    {
     "cell_type": "code",
     "collapsed": false,
     "input": [
      "data.A13.value_counts().plot(kind = 'bar')"
     ],
     "language": "python",
     "metadata": {},
     "outputs": [
      {
       "metadata": {},
       "output_type": "pyout",
       "prompt_number": 313,
       "text": [
        "<matplotlib.axes._subplots.AxesSubplot at 0x10f5ebf90>"
       ]
      },
      {
       "metadata": {},
       "output_type": "display_data",
       "png": "[encoded data removed]",
       "text": [
        "<matplotlib.figure.Figure at 0x10f660090>"
       ]
      }
     ],
     "prompt_number": 313
    },
    {
     "cell_type": "code",
     "collapsed": false,
     "input": [
      "data.A14.value_counts().plot(kind = 'bar')"
     ],
     "language": "python",
     "metadata": {},
     "outputs": [
      {
       "metadata": {},
       "output_type": "pyout",
       "prompt_number": 314,
       "text": [
        "<matplotlib.axes._subplots.AxesSubplot at 0x10f690a90>"
       ]
      },
      {
       "metadata": {},
       "output_type": "display_data",
       "png": "[encoded data removed]",
       "text": [
        "<matplotlib.figure.Figure at 0x10f70f210>"
       ]
      }
     ],
     "prompt_number": 314
    },
    {
     "cell_type": "code",
     "collapsed": false,
     "input": [
      "data.A15.value_counts().plot(kind = 'bar')"
     ],
     "language": "python",
     "metadata": {},
     "outputs": [
      {
       "metadata": {},
       "output_type": "pyout",
       "prompt_number": 315,
       "text": [
        "<matplotlib.axes._subplots.AxesSubplot at 0x110e78d90>"
       ]
      },
      {
       "metadata": {},
       "output_type": "display_data",
       "png": "[encoded data removed]",
       "text": [
        "<matplotlib.figure.Figure at 0x11019a710>"
       ]
      }
     ],
     "prompt_number": 315
    },
    {
     "cell_type": "code",
     "collapsed": false,
     "input": [
      "data.groupby(['A4'])['A16'].mean()"
     ],
     "language": "python",
     "metadata": {},
     "outputs": [
      {
       "metadata": {},
       "output_type": "pyout",
       "prompt_number": 318,
       "text": [
        "A4\n",
        "l     1.000000\n",
        "u     0.493256\n",
        "y     0.276074\n",
        "Name: A16, dtype: float64"
       ]
      }
     ],
     "prompt_number": 318
    },
    {
     "cell_type": "code",
     "collapsed": false,
     "input": [
      "data.hist(bins = 50, figsize = (15,15));"
     ],
     "language": "python",
     "metadata": {},
     "outputs": [
      {
       "metadata": {},
       "output_type": "display_data",
       "png": "[encoded data removed]",
       "text": [
        "<matplotlib.figure.Figure at 0x10ead5350>"
       ]
      }
     ],
     "prompt_number": 320
    },
    {
     "cell_type": "code",
     "collapsed": false,
     "input": [
      "data.corr()"
     ],
     "language": "python",
     "metadata": {},
     "outputs": [
      {
       "html": [
        "<div style=\"max-height:1000px;max-width:1500px;overflow:auto;\">\n",
        "<table border=\"1\" class=\"dataframe\">\n",
        "  <thead>\n",
        "    <tr style=\"text-align: right;\">\n",
        "      <th></th>\n",
        "      <th>A2</th>\n",
        "      <th>A3</th>\n",
        "      <th>A8</th>\n",
        "      <th>A11</th>\n",
        "      <th>A15</th>\n",
        "      <th>A16</th>\n",
        "    </tr>\n",
        "  </thead>\n",
        "  <tbody>\n",
        "    <tr>\n",
        "      <th>A2</th>\n",
        "      <td> 1.000000</td>\n",
        "      <td> 0.204102</td>\n",
        "      <td> 0.395047</td>\n",
        "      <td> 0.188342</td>\n",
        "      <td> 0.016921</td>\n",
        "      <td> 0.154891</td>\n",
        "    </tr>\n",
        "    <tr>\n",
        "      <th>A3</th>\n",
        "      <td> 0.204102</td>\n",
        "      <td> 1.000000</td>\n",
        "      <td> 0.295079</td>\n",
        "      <td> 0.268428</td>\n",
        "      <td> 0.121992</td>\n",
        "      <td> 0.211902</td>\n",
        "    </tr>\n",
        "    <tr>\n",
        "      <th>A8</th>\n",
        "      <td> 0.395047</td>\n",
        "      <td> 0.295079</td>\n",
        "      <td> 1.000000</td>\n",
        "      <td> 0.320413</td>\n",
        "      <td> 0.050311</td>\n",
        "      <td> 0.327280</td>\n",
        "    </tr>\n",
        "    <tr>\n",
        "      <th>A11</th>\n",
        "      <td> 0.188342</td>\n",
        "      <td> 0.268428</td>\n",
        "      <td> 0.320413</td>\n",
        "      <td> 1.000000</td>\n",
        "      <td> 0.062924</td>\n",
        "      <td> 0.410751</td>\n",
        "    </tr>\n",
        "    <tr>\n",
        "      <th>A15</th>\n",
        "      <td> 0.016921</td>\n",
        "      <td> 0.121992</td>\n",
        "      <td> 0.050311</td>\n",
        "      <td> 0.062924</td>\n",
        "      <td> 1.000000</td>\n",
        "      <td> 0.177302</td>\n",
        "    </tr>\n",
        "    <tr>\n",
        "      <th>A16</th>\n",
        "      <td> 0.154891</td>\n",
        "      <td> 0.211902</td>\n",
        "      <td> 0.327280</td>\n",
        "      <td> 0.410751</td>\n",
        "      <td> 0.177302</td>\n",
        "      <td> 1.000000</td>\n",
        "    </tr>\n",
        "  </tbody>\n",
        "</table>\n",
        "</div>"
       ],
       "metadata": {},
       "output_type": "pyout",
       "prompt_number": 322,
       "text": [
        "           A2        A3        A8       A11       A15       A16\n",
        "A2   1.000000  0.204102  0.395047  0.188342  0.016921  0.154891\n",
        "A3   0.204102  1.000000  0.295079  0.268428  0.121992  0.211902\n",
        "A8   0.395047  0.295079  1.000000  0.320413  0.050311  0.327280\n",
        "A11  0.188342  0.268428  0.320413  1.000000  0.062924  0.410751\n",
        "A15  0.016921  0.121992  0.050311  0.062924  1.000000  0.177302\n",
        "A16  0.154891  0.211902  0.327280  0.410751  0.177302  1.000000"
       ]
      }
     ],
     "prompt_number": 322
    },
    {
     "cell_type": "code",
     "collapsed": false,
     "input": [
      "from pandas.tools.plotting import scatter_matrix"
     ],
     "language": "python",
     "metadata": {},
     "outputs": [],
     "prompt_number": 323
    },
    {
     "cell_type": "code",
     "collapsed": false,
     "input": [
      "scatter_matrix(data, figsize = (20,20));"
     ],
     "language": "python",
     "metadata": {},
     "outputs": [
      {
       "metadata": {},
       "output_type": "display_data",
       "png": "[encoded data removed]",
       "text": [
        "<matplotlib.figure.Figure at 0x11792a290>"
       ]
      }
     ],
     "prompt_number": 328
    },
    {
     "cell_type": "code",
     "collapsed": false,
     "input": [
      "sns.factorplot(\"A1\", hue = \"A4\", data = data, kind = \"bar\", palette = \"Greens_d\", size = 5);"
     ],
     "language": "python",
     "metadata": {},
     "outputs": [
      {
       "metadata": {},
       "output_type": "display_data",
       "png": "[encoded data removed]",
       "text": [
        "<matplotlib.figure.Figure at 0x117cf0d90>"
       ]
      }
     ],
     "prompt_number": 332
    },
    {
     "cell_type": "code",
     "collapsed": false,
     "input": [
      "sns.factorplot(\"A1\", hue = \"A16\", data = data, kind = \"bar\", palette = \"Greens_d\", size = 5);"
     ],
     "language": "python",
     "metadata": {},
     "outputs": [
      {
       "metadata": {},
       "output_type": "display_data",
       "png": "[encoded data removed]",
       "text": [
        "<matplotlib.figure.Figure at 0x119e15a50>"
       ]
      }
     ],
     "prompt_number": 333
    },
    {
     "cell_type": "code",
     "collapsed": false,
     "input": [
      "sns.factorplot(\"A4\", hue = \"A16\", data = data, kind = \"bar\", palette = \"Greens_d\", size = 5);"
     ],
     "language": "python",
     "metadata": {},
     "outputs": [
      {
       "metadata": {},
       "output_type": "display_data",
       "png": "[encoded data removed]",
       "text": [
        "<matplotlib.figure.Figure at 0x117cf0ed0>"
       ]
      }
     ],
     "prompt_number": 334
    },
    {
     "cell_type": "code",
     "collapsed": false,
     "input": [
      "sns.factorplot(\"A9\", hue = \"A16\", data = data, kind = \"bar\", palette = \"Greens_d\", size = 5)"
     ],
     "language": "python",
     "metadata": {},
     "outputs": [
      {
       "metadata": {},
       "output_type": "pyout",
       "prompt_number": 354,
       "text": [
        "<seaborn.axisgrid.FacetGrid at 0x118eeb890>"
       ]
      },
      {
       "metadata": {},
       "output_type": "display_data",
       "png": "[encoded data removed]",
       "text": [
        "<matplotlib.figure.Figure at 0x118eeb790>"
       ]
      }
     ],
     "prompt_number": 354
    },
    {
     "cell_type": "code",
     "collapsed": false,
     "input": [
      "sns.factorplot(\"A10\", hue = \"A16\", data = data, kind = \"bar\", palette = \"Greens_d\", size = 5)"
     ],
     "language": "python",
     "metadata": {},
     "outputs": [
      {
       "metadata": {},
       "output_type": "pyout",
       "prompt_number": 355,
       "text": [
        "<seaborn.axisgrid.FacetGrid at 0x11b0b1f90>"
       ]
      },
      {
       "metadata": {},
       "output_type": "display_data",
       "png": "[encoded data removed]",
       "text": [
        "<matplotlib.figure.Figure at 0x11b0b11d0>"
       ]
      }
     ],
     "prompt_number": 355
    },
    {
     "cell_type": "code",
     "collapsed": false,
     "input": [
      "sns.factorplot(\"A12\", hue = \"A16\", data = data, kind = \"bar\", palette = \"Greens_d\", size = 5)"
     ],
     "language": "python",
     "metadata": {},
     "outputs": [
      {
       "metadata": {},
       "output_type": "pyout",
       "prompt_number": 356,
       "text": [
        "<seaborn.axisgrid.FacetGrid at 0x118fafd90>"
       ]
      },
      {
       "metadata": {},
       "output_type": "display_data",
       "png": "[encoded data removed]",
       "text": [
        "<matplotlib.figure.Figure at 0x118fafc50>"
       ]
      }
     ],
     "prompt_number": 356
    },
    {
     "cell_type": "code",
     "collapsed": false,
     "input": [
      "sns.factorplot(\"A9\", hue = \"A10\", data = data, kind = \"bar\", palette = \"Greens_d\", size = 5)"
     ],
     "language": "python",
     "metadata": {},
     "outputs": [
      {
       "metadata": {},
       "output_type": "pyout",
       "prompt_number": 357,
       "text": [
        "<seaborn.axisgrid.FacetGrid at 0x11ad79e10>"
       ]
      },
      {
       "metadata": {},
       "output_type": "display_data",
       "png": "[encoded data removed]",
       "text": [
        "<matplotlib.figure.Figure at 0x11ad79510>"
       ]
      }
     ],
     "prompt_number": 357
    },
    {
     "cell_type": "code",
     "collapsed": false,
     "input": [
      "## DUMMIES\n",
      "\n",
      "dummy = pd.get_dummies(data)\n",
      "dummy.drop('A16', axis = 1, inplace = True)"
     ],
     "language": "python",
     "metadata": {},
     "outputs": [],
     "prompt_number": 336
    },
    {
     "cell_type": "code",
     "collapsed": false,
     "input": [
      "dummy.info()"
     ],
     "language": "python",
     "metadata": {},
     "outputs": [
      {
       "output_type": "stream",
       "stream": "stdout",
       "text": [
        "<class 'pandas.core.frame.DataFrame'>\n",
        "Int64Index: 684 entries, 0 to 689\n",
        "Columns: 215 entries, A2 to A14_02000\n",
        "dtypes: float64(213), int64(2)\n",
        "memory usage: 1.1 MB\n"
       ]
      }
     ],
     "prompt_number": 338
    },
    {
     "cell_type": "code",
     "collapsed": false,
     "input": [
      "Target = data.A16.values"
     ],
     "language": "python",
     "metadata": {},
     "outputs": [],
     "prompt_number": 339
    },
    {
     "cell_type": "code",
     "collapsed": false,
     "input": [
      "Features = dummy"
     ],
     "language": "python",
     "metadata": {},
     "outputs": [],
     "prompt_number": 340
    },
    {
     "cell_type": "code",
     "collapsed": false,
     "input": [
      "## TRAIN TEST SPLIT\n",
      "f_train, f_test, t_train, t_test = train_test_split(Features,\n",
      "                                                    Target, random_state = 3, \n",
      "                                                    test_size = .3)\n"
     ],
     "language": "python",
     "metadata": {},
     "outputs": [],
     "prompt_number": 381
    },
    {
     "cell_type": "code",
     "collapsed": false,
     "input": [
      "## LOGISTIC REGRESSION\n",
      "\n",
      "lr = LogisticRegression()"
     ],
     "language": "python",
     "metadata": {},
     "outputs": [],
     "prompt_number": 382
    },
    {
     "cell_type": "code",
     "collapsed": false,
     "input": [
      "lr.fit(f_train, t_train)"
     ],
     "language": "python",
     "metadata": {},
     "outputs": [
      {
       "metadata": {},
       "output_type": "pyout",
       "prompt_number": 383,
       "text": [
        "LogisticRegression(C=1.0, class_weight=None, dual=False, fit_intercept=True,\n",
        "          intercept_scaling=1, penalty='l2', random_state=None, tol=0.0001)"
       ]
      }
     ],
     "prompt_number": 383
    },
    {
     "cell_type": "code",
     "collapsed": false,
     "input": [
      "lr.score(f_test, t_test)"
     ],
     "language": "python",
     "metadata": {},
     "outputs": [
      {
       "metadata": {},
       "output_type": "pyout",
       "prompt_number": 384,
       "text": [
        "0.79611650485436891"
       ]
      }
     ],
     "prompt_number": 384
    },
    {
     "cell_type": "code",
     "collapsed": false,
     "input": [
      "## CONFUSION MATRIX\n",
      "\n",
      "t_pred = lr.predict(f_test)"
     ],
     "language": "python",
     "metadata": {},
     "outputs": [],
     "prompt_number": 385
    },
    {
     "cell_type": "code",
     "collapsed": false,
     "input": [
      "confusion_matrix(t_test, t_pred)"
     ],
     "language": "python",
     "metadata": {},
     "outputs": [
      {
       "metadata": {},
       "output_type": "pyout",
       "prompt_number": 386,
       "text": [
        "array([[88, 24],\n",
        "       [18, 76]])"
       ]
      }
     ],
     "prompt_number": 386
    },
    {
     "cell_type": "code",
     "collapsed": false,
     "input": [
      "print classification_report(t_test, t_pred)"
     ],
     "language": "python",
     "metadata": {},
     "outputs": [
      {
       "output_type": "stream",
       "stream": "stdout",
       "text": [
        "             precision    recall  f1-score   support\n",
        "\n",
        "          0       0.83      0.79      0.81       112\n",
        "          1       0.76      0.81      0.78        94\n",
        "\n",
        "avg / total       0.80      0.80      0.80       206\n",
        "\n"
       ]
      }
     ],
     "prompt_number": 387
    },
    {
     "cell_type": "code",
     "collapsed": false,
     "input": [
      "## SVM\n",
      "\n",
      "est = LinearSVC(C=1e+1)"
     ],
     "language": "python",
     "metadata": {},
     "outputs": [],
     "prompt_number": 388
    },
    {
     "cell_type": "code",
     "collapsed": false,
     "input": [
      "est.fit(f_train, t_train)"
     ],
     "language": "python",
     "metadata": {},
     "outputs": [
      {
       "metadata": {},
       "output_type": "pyout",
       "prompt_number": 389,
       "text": [
        "LinearSVC(C=10.0, class_weight=None, dual=True, fit_intercept=True,\n",
        "     intercept_scaling=1, loss='l2', multi_class='ovr', penalty='l2',\n",
        "     random_state=None, tol=0.0001, verbose=0)"
       ]
      }
     ],
     "prompt_number": 389
    },
    {
     "cell_type": "code",
     "collapsed": false,
     "input": [
      "est.score(f_test, t_test) \n",
      "#the score is consistently in the .7 to .8 range when the split is .2 instead of .3"
     ],
     "language": "python",
     "metadata": {},
     "outputs": [
      {
       "metadata": {},
       "output_type": "pyout",
       "prompt_number": 391,
       "text": [
        "0.59223300970873782"
       ]
      }
     ],
     "prompt_number": 391
    },
    {
     "cell_type": "code",
     "collapsed": false,
     "input": [
      "## GRID SEARCH\n",
      "d = {}\n",
      "d['C'] = np.logspace(-3,-3,10)"
     ],
     "language": "python",
     "metadata": {},
     "outputs": [],
     "prompt_number": 392
    },
    {
     "cell_type": "code",
     "collapsed": false,
     "input": [
      "gs = GridSearchCV(LinearSVC(),d)\n",
      "gs.fit(f_train, t_train)"
     ],
     "language": "python",
     "metadata": {},
     "outputs": [
      {
       "metadata": {},
       "output_type": "pyout",
       "prompt_number": 394,
       "text": [
        "GridSearchCV(cv=None,\n",
        "       estimator=LinearSVC(C=1.0, class_weight=None, dual=True, fit_intercept=True,\n",
        "     intercept_scaling=1, loss='l2', multi_class='ovr', penalty='l2',\n",
        "     random_state=None, tol=0.0001, verbose=0),\n",
        "       fit_params={}, iid=True, loss_func=None, n_jobs=1,\n",
        "       param_grid={'C': array([ 0.001,  0.001,  0.001,  0.001,  0.001,  0.001,  0.001,  0.001,\n",
        "        0.001,  0.001])},\n",
        "       pre_dispatch='2*n_jobs', refit=True, score_func=None, scoring=None,\n",
        "       verbose=0)"
       ]
      }
     ],
     "prompt_number": 394
    },
    {
     "cell_type": "code",
     "collapsed": false,
     "input": [
      "gs.best_params_, gs.best_score_"
     ],
     "language": "python",
     "metadata": {},
     "outputs": [
      {
       "metadata": {},
       "output_type": "pyout",
       "prompt_number": 395,
       "text": [
        "({'C': 0.001}, 0.80125523012552302)"
       ]
      }
     ],
     "prompt_number": 395
    },
    {
     "cell_type": "code",
     "collapsed": false,
     "input": [
      "gs.score(f_train, t_train)"
     ],
     "language": "python",
     "metadata": {},
     "outputs": [
      {
       "metadata": {},
       "output_type": "pyout",
       "prompt_number": 396,
       "text": [
        "0.82426778242677823"
       ]
      }
     ],
     "prompt_number": 396
    },
    {
     "cell_type": "code",
     "collapsed": false,
     "input": [
      "t_pred = gs.predict(f_test)"
     ],
     "language": "python",
     "metadata": {},
     "outputs": [],
     "prompt_number": 397
    },
    {
     "cell_type": "code",
     "collapsed": false,
     "input": [
      "confusion_matrix(t_test, t_pred)"
     ],
     "language": "python",
     "metadata": {},
     "outputs": [
      {
       "metadata": {},
       "output_type": "pyout",
       "prompt_number": 398,
       "text": [
        "array([[102,  10],\n",
        "       [ 27,  67]])"
       ]
      }
     ],
     "prompt_number": 398
    },
    {
     "cell_type": "code",
     "collapsed": false,
     "input": [
      "print classification_report(t_test, t_pred)"
     ],
     "language": "python",
     "metadata": {},
     "outputs": [
      {
       "output_type": "stream",
       "stream": "stdout",
       "text": [
        "             precision    recall  f1-score   support\n",
        "\n",
        "          0       0.79      0.91      0.85       112\n",
        "          1       0.87      0.71      0.78        94\n",
        "\n",
        "avg / total       0.83      0.82      0.82       206\n",
        "\n"
       ]
      }
     ],
     "prompt_number": 399
    },
    {
     "cell_type": "code",
     "collapsed": false,
     "input": [
      "## SVC - the black box that is the nonlinear kernel\n",
      "\n",
      "svc = SVC()"
     ],
     "language": "python",
     "metadata": {},
     "outputs": [],
     "prompt_number": 401
    },
    {
     "cell_type": "code",
     "collapsed": false,
     "input": [
      "svc.fit(f_train, t_train)"
     ],
     "language": "python",
     "metadata": {},
     "outputs": [
      {
       "metadata": {},
       "output_type": "pyout",
       "prompt_number": 402,
       "text": [
        "SVC(C=1.0, cache_size=200, class_weight=None, coef0=0.0, degree=3, gamma=0.0,\n",
        "  kernel='rbf', max_iter=-1, probability=False, random_state=None,\n",
        "  shrinking=True, tol=0.001, verbose=False)"
       ]
      }
     ],
     "prompt_number": 402
    },
    {
     "cell_type": "code",
     "collapsed": false,
     "input": [
      "svc.score(f_train, t_train)"
     ],
     "language": "python",
     "metadata": {},
     "outputs": [
      {
       "metadata": {},
       "output_type": "pyout",
       "prompt_number": 403,
       "text": [
        "0.84728033472803344"
       ]
      }
     ],
     "prompt_number": 403
    },
    {
     "cell_type": "code",
     "collapsed": false,
     "input": [
      "t_pred = svc.predict(f_test)"
     ],
     "language": "python",
     "metadata": {},
     "outputs": [],
     "prompt_number": 404
    },
    {
     "cell_type": "code",
     "collapsed": false,
     "input": [
      "confusion_matrix(t_test, t_pred)"
     ],
     "language": "python",
     "metadata": {},
     "outputs": [
      {
       "metadata": {},
       "output_type": "pyout",
       "prompt_number": 405,
       "text": [
        "array([[98, 14],\n",
        "       [30, 64]])"
       ]
      }
     ],
     "prompt_number": 405
    },
    {
     "cell_type": "code",
     "collapsed": false,
     "input": [
      "print classification_report(t_test, t_pred)"
     ],
     "language": "python",
     "metadata": {},
     "outputs": [
      {
       "output_type": "stream",
       "stream": "stdout",
       "text": [
        "             precision    recall  f1-score   support\n",
        "\n",
        "          0       0.77      0.88      0.82       112\n",
        "          1       0.82      0.68      0.74        94\n",
        "\n",
        "avg / total       0.79      0.79      0.78       206\n",
        "\n"
       ]
      }
     ],
     "prompt_number": 406
    },
    {
     "cell_type": "code",
     "collapsed": false,
     "input": [
      "d = {}\n",
      "d['C'] = np.logspace(-3,3,10)"
     ],
     "language": "python",
     "metadata": {},
     "outputs": [],
     "prompt_number": 407
    },
    {
     "cell_type": "code",
     "collapsed": false,
     "input": [
      "gs = GridSearchCV(SVC(),d)\n",
      "gs.fit(f_train, t_train)"
     ],
     "language": "python",
     "metadata": {},
     "outputs": [
      {
       "metadata": {},
       "output_type": "pyout",
       "prompt_number": 408,
       "text": [
        "GridSearchCV(cv=None,\n",
        "       estimator=SVC(C=1.0, cache_size=200, class_weight=None, coef0=0.0, degree=3, gamma=0.0,\n",
        "  kernel='rbf', max_iter=-1, probability=False, random_state=None,\n",
        "  shrinking=True, tol=0.001, verbose=False),\n",
        "       fit_params={}, iid=True, loss_func=None, n_jobs=1,\n",
        "       param_grid={'C': array([  1.00000e-03,   4.64159e-03,   2.15443e-02,   1.00000e-01,\n",
        "         4.64159e-01,   2.15443e+00,   1.00000e+01,   4.64159e+01,\n",
        "         2.15443e+02,   1.00000e+03])},\n",
        "       pre_dispatch='2*n_jobs', refit=True, score_func=None, scoring=None,\n",
        "       verbose=0)"
       ]
      }
     ],
     "prompt_number": 408
    },
    {
     "cell_type": "code",
     "collapsed": false,
     "input": [
      "gs.best_params_, gs.best_score_"
     ],
     "language": "python",
     "metadata": {},
     "outputs": [
      {
       "metadata": {},
       "output_type": "pyout",
       "prompt_number": 412,
       "text": [
        "({'C': 10.0}, 0.7615062761506276)"
       ]
      }
     ],
     "prompt_number": 412
    },
    {
     "cell_type": "code",
     "collapsed": false,
     "input": [
      "gs.score(f_train, t_train)"
     ],
     "language": "python",
     "metadata": {},
     "outputs": [
      {
       "metadata": {},
       "output_type": "pyout",
       "prompt_number": 413,
       "text": [
        "0.94979079497907948"
       ]
      }
     ],
     "prompt_number": 413
    },
    {
     "cell_type": "code",
     "collapsed": false,
     "input": [
      "t_pred = gs.predict(f_test)"
     ],
     "language": "python",
     "metadata": {},
     "outputs": [],
     "prompt_number": 415
    },
    {
     "cell_type": "code",
     "collapsed": false,
     "input": [
      "confusion_matrix(t_test, t_pred)"
     ],
     "language": "python",
     "metadata": {},
     "outputs": [
      {
       "metadata": {},
       "output_type": "pyout",
       "prompt_number": 416,
       "text": [
        "array([[87, 25],\n",
        "       [25, 69]])"
       ]
      }
     ],
     "prompt_number": 416
    },
    {
     "cell_type": "code",
     "collapsed": false,
     "input": [
      "print classification_report(t_test, t_pred)"
     ],
     "language": "python",
     "metadata": {},
     "outputs": [
      {
       "output_type": "stream",
       "stream": "stdout",
       "text": [
        "             precision    recall  f1-score   support\n",
        "\n",
        "          0       0.78      0.78      0.78       112\n",
        "          1       0.73      0.73      0.73        94\n",
        "\n",
        "avg / total       0.76      0.76      0.76       206\n",
        "\n"
       ]
      }
     ],
     "prompt_number": 417
    },
    {
     "cell_type": "code",
     "collapsed": false,
     "input": [
      "param = {'C':np.logspace(-3,3,10), 'gamma' : np.logspace(-3, 3, 5)}\n",
      "gs = GridSearchCV(SVC(), param)"
     ],
     "language": "python",
     "metadata": {},
     "outputs": [],
     "prompt_number": 420
    },
    {
     "cell_type": "code",
     "collapsed": false,
     "input": [
      "gs.fit(f_train, t_train)"
     ],
     "language": "python",
     "metadata": {},
     "outputs": [
      {
       "metadata": {},
       "output_type": "pyout",
       "prompt_number": 429,
       "text": [
        "GridSearchCV(cv=None,\n",
        "       estimator=SVC(C=1.0, cache_size=200, class_weight=None, coef0=0.0, degree=3, gamma=0.0,\n",
        "  kernel='rbf', max_iter=-1, probability=False, random_state=None,\n",
        "  shrinking=True, tol=0.001, verbose=False),\n",
        "       fit_params={}, iid=True, loss_func=None, n_jobs=1,\n",
        "       param_grid={'C': array([  1.00000e-03,   4.64159e-03,   2.15443e-02,   1.00000e-01,\n",
        "         4.64159e-01,   2.15443e+00,   1.00000e+01,   4.64159e+01,\n",
        "         2.15443e+02,   1.00000e+03]), 'gamma': array([  1.00000e-03,   3.16228e-02,   1.00000e+00,   3.16228e+01,\n",
        "         1.00000e+03])},\n",
        "       pre_dispatch='2*n_jobs', refit=True, score_func=None, scoring=None,\n",
        "       verbose=0)"
       ]
      }
     ],
     "prompt_number": 429
    },
    {
     "cell_type": "code",
     "collapsed": false,
     "input": [
      "gs.score(f_train, t_train)"
     ],
     "language": "python",
     "metadata": {},
     "outputs": [
      {
       "metadata": {},
       "output_type": "pyout",
       "prompt_number": 430,
       "text": [
        "0.93723849372384938"
       ]
      }
     ],
     "prompt_number": 430
    },
    {
     "cell_type": "code",
     "collapsed": false,
     "input": [
      "t_pred = gs.predict(f_test)"
     ],
     "language": "python",
     "metadata": {},
     "outputs": [],
     "prompt_number": 432
    },
    {
     "cell_type": "code",
     "collapsed": true,
     "input": [
      "confusion_matrix(t_test, t_pred)"
     ],
     "language": "python",
     "metadata": {},
     "outputs": [
      {
       "metadata": {},
       "output_type": "pyout",
       "prompt_number": 433,
       "text": [
        "array([[85, 27],\n",
        "       [22, 72]])"
       ]
      }
     ],
     "prompt_number": 433
    },
    {
     "cell_type": "code",
     "collapsed": false,
     "input": [
      "print classification_report(t_test, t_pred)"
     ],
     "language": "python",
     "metadata": {},
     "outputs": [
      {
       "output_type": "stream",
       "stream": "stdout",
       "text": [
        "             precision    recall  f1-score   support\n",
        "\n",
        "          0       0.79      0.76      0.78       112\n",
        "          1       0.73      0.77      0.75        94\n",
        "\n",
        "avg / total       0.76      0.76      0.76       206\n",
        "\n"
       ]
      }
     ],
     "prompt_number": 434
    },
    {
     "cell_type": "code",
     "collapsed": false,
     "input": [],
     "language": "python",
     "metadata": {},
     "outputs": []
    }
   ],
   "metadata": {}
  }
 ]
}